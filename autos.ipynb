{
  "nbformat": 4,
  "nbformat_minor": 0,
  "metadata": {
    "colab": {
      "name": "autos.ipynb",
      "provenance": [],
      "collapsed_sections": [],
      "mount_file_id": "19Pf-cYig_fZof15givJ6rXMRUDx4eLJw",
      "authorship_tag": "ABX9TyO/1roEz7jXeEi+QTcNrkv3",
      "include_colab_link": true
    },
    "kernelspec": {
      "name": "python3",
      "display_name": "Python 3"
    },
    "language_info": {
      "name": "python"
    },
    "accelerator": "GPU"
  },
  "cells": [
    {
      "cell_type": "markdown",
      "metadata": {
        "id": "view-in-github",
        "colab_type": "text"
      },
      "source": [
        "<a href=\"https://colab.research.google.com/github/Doppler-67/car-price-prediction/blob/main/autos.ipynb\" target=\"_parent\"><img src=\"https://colab.research.google.com/assets/colab-badge.svg\" alt=\"Open In Colab\"/></a>"
      ]
    },
    {
      "cell_type": "markdown",
      "source": [
        "**Цель проекта:**\n",
        "\n",
        "Нужно построить модель для определения стоимости автомобиля.\n",
        "\n",
        "**Важные критерии модели:**\n",
        "\n",
        "1.   качество предсказания.\n",
        "2.   скорость предсказания.\n",
        "3.   время обучения.\n",
        "\n",
        "**Описание данных:**\n",
        "\n",
        "Доступны технические характеристики, комплектации и цены автомобилей. "
      ],
      "metadata": {
        "id": "YmGBhk_3sUgI"
      }
    },
    {
      "cell_type": "markdown",
      "source": [
        "⭕ Более подробная информация находится в README файле."
      ],
      "metadata": {
        "id": "t5FqBJn4sS9-"
      }
    },
    {
      "cell_type": "markdown",
      "source": [
        "# **Importing libraries**"
      ],
      "metadata": {
        "id": "9pIIqBaeHyyf"
      }
    },
    {
      "cell_type": "code",
      "execution_count": 1,
      "metadata": {
        "id": "i8q2RzZU94yn"
      },
      "outputs": [],
      "source": [
        "import pandas as pd\n",
        "import numpy as np\n",
        "import seaborn as sns\n",
        "import matplotlib.pyplot as plt\n",
        "import shap\n",
        "\n",
        "from sklearn.preprocessing import OrdinalEncoder\n",
        "from sklearn.model_selection import train_test_split, cross_val_score, RandomizedSearchCV\n",
        "from sklearn.ensemble import RandomForestRegressor\n",
        "from sklearn.metrics import mean_squared_error\n",
        "\n",
        "from lightgbm import LGBMRegressor\n",
        "from xgboost import XGBRegressor\n",
        "\n",
        "import warnings\n",
        "warnings.filterwarnings('ignore')"
      ]
    },
    {
      "cell_type": "code",
      "source": [
        "sns.set()"
      ],
      "metadata": {
        "id": "-H7wzcH_HmPk"
      },
      "execution_count": 2,
      "outputs": []
    },
    {
      "cell_type": "markdown",
      "source": [
        "# **Data understanding**"
      ],
      "metadata": {
        "id": "Vtpd5_KrIRJB"
      }
    },
    {
      "cell_type": "markdown",
      "source": [
        "**План исследования:**\n",
        "\n",
        "\n",
        "1.   Загрузить данные.\n",
        "2.   Провести предобработку данных.\n",
        "3.   Провести исследовательский анализ данных.\n",
        "4.   Протестировать различные модели.\n",
        "5.   Подобрать оптимальные параметры для моделей.\n",
        "6.   Выбрать лучшую модель и проверить ее на тестовых данных.\n",
        "7.   Провести интерпретацию лучшей модели.\n",
        "8.   Сделать вывод о результатах.\n",
        "\n"
      ],
      "metadata": {
        "id": "00kvPi9jKKnt"
      }
    },
    {
      "cell_type": "code",
      "source": [
        "data = pd.read_csv('/content/drive/MyDrive/autos_ds_project/autos.csv')"
      ],
      "metadata": {
        "id": "MSQLXR93HnCr"
      },
      "execution_count": 3,
      "outputs": []
    },
    {
      "cell_type": "code",
      "source": [
        "data.head()"
      ],
      "metadata": {
        "id": "ew3FTjp6HqFm",
        "colab": {
          "base_uri": "https://localhost:8080/",
          "height": 206
        },
        "outputId": "3141bcb0-4a57-4cc9-81dd-f412a98c3843"
      },
      "execution_count": 4,
      "outputs": [
        {
          "output_type": "execute_result",
          "data": {
            "text/plain": [
              "           DateCrawled  Price VehicleType  RegistrationYear Gearbox  Power  \\\n",
              "0  2016-03-24 11:52:17    480         NaN              1993  manual      0   \n",
              "1  2016-03-24 10:58:45  18300       coupe              2011  manual    190   \n",
              "2  2016-03-14 12:52:21   9800         suv              2004    auto    163   \n",
              "3  2016-03-17 16:54:04   1500       small              2001  manual     75   \n",
              "4  2016-03-31 17:25:20   3600       small              2008  manual     69   \n",
              "\n",
              "   Model  Kilometer  RegistrationMonth  FuelType       Brand NotRepaired  \\\n",
              "0   golf     150000                  0    petrol  volkswagen         NaN   \n",
              "1    NaN     125000                  5  gasoline        audi         yes   \n",
              "2  grand     125000                  8  gasoline        jeep         NaN   \n",
              "3   golf     150000                  6    petrol  volkswagen          no   \n",
              "4  fabia      90000                  7  gasoline       skoda          no   \n",
              "\n",
              "           DateCreated  NumberOfPictures  PostalCode             LastSeen  \n",
              "0  2016-03-24 00:00:00                 0       70435  2016-04-07 03:16:57  \n",
              "1  2016-03-24 00:00:00                 0       66954  2016-04-07 01:46:50  \n",
              "2  2016-03-14 00:00:00                 0       90480  2016-04-05 12:47:46  \n",
              "3  2016-03-17 00:00:00                 0       91074  2016-03-17 17:40:17  \n",
              "4  2016-03-31 00:00:00                 0       60437  2016-04-06 10:17:21  "
            ],
            "text/html": [
              "\n",
              "  <div id=\"df-f1858cbb-4e13-4b4f-b4b3-ac82d14f7b59\">\n",
              "    <div class=\"colab-df-container\">\n",
              "      <div>\n",
              "<style scoped>\n",
              "    .dataframe tbody tr th:only-of-type {\n",
              "        vertical-align: middle;\n",
              "    }\n",
              "\n",
              "    .dataframe tbody tr th {\n",
              "        vertical-align: top;\n",
              "    }\n",
              "\n",
              "    .dataframe thead th {\n",
              "        text-align: right;\n",
              "    }\n",
              "</style>\n",
              "<table border=\"1\" class=\"dataframe\">\n",
              "  <thead>\n",
              "    <tr style=\"text-align: right;\">\n",
              "      <th></th>\n",
              "      <th>DateCrawled</th>\n",
              "      <th>Price</th>\n",
              "      <th>VehicleType</th>\n",
              "      <th>RegistrationYear</th>\n",
              "      <th>Gearbox</th>\n",
              "      <th>Power</th>\n",
              "      <th>Model</th>\n",
              "      <th>Kilometer</th>\n",
              "      <th>RegistrationMonth</th>\n",
              "      <th>FuelType</th>\n",
              "      <th>Brand</th>\n",
              "      <th>NotRepaired</th>\n",
              "      <th>DateCreated</th>\n",
              "      <th>NumberOfPictures</th>\n",
              "      <th>PostalCode</th>\n",
              "      <th>LastSeen</th>\n",
              "    </tr>\n",
              "  </thead>\n",
              "  <tbody>\n",
              "    <tr>\n",
              "      <th>0</th>\n",
              "      <td>2016-03-24 11:52:17</td>\n",
              "      <td>480</td>\n",
              "      <td>NaN</td>\n",
              "      <td>1993</td>\n",
              "      <td>manual</td>\n",
              "      <td>0</td>\n",
              "      <td>golf</td>\n",
              "      <td>150000</td>\n",
              "      <td>0</td>\n",
              "      <td>petrol</td>\n",
              "      <td>volkswagen</td>\n",
              "      <td>NaN</td>\n",
              "      <td>2016-03-24 00:00:00</td>\n",
              "      <td>0</td>\n",
              "      <td>70435</td>\n",
              "      <td>2016-04-07 03:16:57</td>\n",
              "    </tr>\n",
              "    <tr>\n",
              "      <th>1</th>\n",
              "      <td>2016-03-24 10:58:45</td>\n",
              "      <td>18300</td>\n",
              "      <td>coupe</td>\n",
              "      <td>2011</td>\n",
              "      <td>manual</td>\n",
              "      <td>190</td>\n",
              "      <td>NaN</td>\n",
              "      <td>125000</td>\n",
              "      <td>5</td>\n",
              "      <td>gasoline</td>\n",
              "      <td>audi</td>\n",
              "      <td>yes</td>\n",
              "      <td>2016-03-24 00:00:00</td>\n",
              "      <td>0</td>\n",
              "      <td>66954</td>\n",
              "      <td>2016-04-07 01:46:50</td>\n",
              "    </tr>\n",
              "    <tr>\n",
              "      <th>2</th>\n",
              "      <td>2016-03-14 12:52:21</td>\n",
              "      <td>9800</td>\n",
              "      <td>suv</td>\n",
              "      <td>2004</td>\n",
              "      <td>auto</td>\n",
              "      <td>163</td>\n",
              "      <td>grand</td>\n",
              "      <td>125000</td>\n",
              "      <td>8</td>\n",
              "      <td>gasoline</td>\n",
              "      <td>jeep</td>\n",
              "      <td>NaN</td>\n",
              "      <td>2016-03-14 00:00:00</td>\n",
              "      <td>0</td>\n",
              "      <td>90480</td>\n",
              "      <td>2016-04-05 12:47:46</td>\n",
              "    </tr>\n",
              "    <tr>\n",
              "      <th>3</th>\n",
              "      <td>2016-03-17 16:54:04</td>\n",
              "      <td>1500</td>\n",
              "      <td>small</td>\n",
              "      <td>2001</td>\n",
              "      <td>manual</td>\n",
              "      <td>75</td>\n",
              "      <td>golf</td>\n",
              "      <td>150000</td>\n",
              "      <td>6</td>\n",
              "      <td>petrol</td>\n",
              "      <td>volkswagen</td>\n",
              "      <td>no</td>\n",
              "      <td>2016-03-17 00:00:00</td>\n",
              "      <td>0</td>\n",
              "      <td>91074</td>\n",
              "      <td>2016-03-17 17:40:17</td>\n",
              "    </tr>\n",
              "    <tr>\n",
              "      <th>4</th>\n",
              "      <td>2016-03-31 17:25:20</td>\n",
              "      <td>3600</td>\n",
              "      <td>small</td>\n",
              "      <td>2008</td>\n",
              "      <td>manual</td>\n",
              "      <td>69</td>\n",
              "      <td>fabia</td>\n",
              "      <td>90000</td>\n",
              "      <td>7</td>\n",
              "      <td>gasoline</td>\n",
              "      <td>skoda</td>\n",
              "      <td>no</td>\n",
              "      <td>2016-03-31 00:00:00</td>\n",
              "      <td>0</td>\n",
              "      <td>60437</td>\n",
              "      <td>2016-04-06 10:17:21</td>\n",
              "    </tr>\n",
              "  </tbody>\n",
              "</table>\n",
              "</div>\n",
              "      <button class=\"colab-df-convert\" onclick=\"convertToInteractive('df-f1858cbb-4e13-4b4f-b4b3-ac82d14f7b59')\"\n",
              "              title=\"Convert this dataframe to an interactive table.\"\n",
              "              style=\"display:none;\">\n",
              "        \n",
              "  <svg xmlns=\"http://www.w3.org/2000/svg\" height=\"24px\"viewBox=\"0 0 24 24\"\n",
              "       width=\"24px\">\n",
              "    <path d=\"M0 0h24v24H0V0z\" fill=\"none\"/>\n",
              "    <path d=\"M18.56 5.44l.94 2.06.94-2.06 2.06-.94-2.06-.94-.94-2.06-.94 2.06-2.06.94zm-11 1L8.5 8.5l.94-2.06 2.06-.94-2.06-.94L8.5 2.5l-.94 2.06-2.06.94zm10 10l.94 2.06.94-2.06 2.06-.94-2.06-.94-.94-2.06-.94 2.06-2.06.94z\"/><path d=\"M17.41 7.96l-1.37-1.37c-.4-.4-.92-.59-1.43-.59-.52 0-1.04.2-1.43.59L10.3 9.45l-7.72 7.72c-.78.78-.78 2.05 0 2.83L4 21.41c.39.39.9.59 1.41.59.51 0 1.02-.2 1.41-.59l7.78-7.78 2.81-2.81c.8-.78.8-2.07 0-2.86zM5.41 20L4 18.59l7.72-7.72 1.47 1.35L5.41 20z\"/>\n",
              "  </svg>\n",
              "      </button>\n",
              "      \n",
              "  <style>\n",
              "    .colab-df-container {\n",
              "      display:flex;\n",
              "      flex-wrap:wrap;\n",
              "      gap: 12px;\n",
              "    }\n",
              "\n",
              "    .colab-df-convert {\n",
              "      background-color: #E8F0FE;\n",
              "      border: none;\n",
              "      border-radius: 50%;\n",
              "      cursor: pointer;\n",
              "      display: none;\n",
              "      fill: #1967D2;\n",
              "      height: 32px;\n",
              "      padding: 0 0 0 0;\n",
              "      width: 32px;\n",
              "    }\n",
              "\n",
              "    .colab-df-convert:hover {\n",
              "      background-color: #E2EBFA;\n",
              "      box-shadow: 0px 1px 2px rgba(60, 64, 67, 0.3), 0px 1px 3px 1px rgba(60, 64, 67, 0.15);\n",
              "      fill: #174EA6;\n",
              "    }\n",
              "\n",
              "    [theme=dark] .colab-df-convert {\n",
              "      background-color: #3B4455;\n",
              "      fill: #D2E3FC;\n",
              "    }\n",
              "\n",
              "    [theme=dark] .colab-df-convert:hover {\n",
              "      background-color: #434B5C;\n",
              "      box-shadow: 0px 1px 3px 1px rgba(0, 0, 0, 0.15);\n",
              "      filter: drop-shadow(0px 1px 2px rgba(0, 0, 0, 0.3));\n",
              "      fill: #FFFFFF;\n",
              "    }\n",
              "  </style>\n",
              "\n",
              "      <script>\n",
              "        const buttonEl =\n",
              "          document.querySelector('#df-f1858cbb-4e13-4b4f-b4b3-ac82d14f7b59 button.colab-df-convert');\n",
              "        buttonEl.style.display =\n",
              "          google.colab.kernel.accessAllowed ? 'block' : 'none';\n",
              "\n",
              "        async function convertToInteractive(key) {\n",
              "          const element = document.querySelector('#df-f1858cbb-4e13-4b4f-b4b3-ac82d14f7b59');\n",
              "          const dataTable =\n",
              "            await google.colab.kernel.invokeFunction('convertToInteractive',\n",
              "                                                     [key], {});\n",
              "          if (!dataTable) return;\n",
              "\n",
              "          const docLinkHtml = 'Like what you see? Visit the ' +\n",
              "            '<a target=\"_blank\" href=https://colab.research.google.com/notebooks/data_table.ipynb>data table notebook</a>'\n",
              "            + ' to learn more about interactive tables.';\n",
              "          element.innerHTML = '';\n",
              "          dataTable['output_type'] = 'display_data';\n",
              "          await google.colab.output.renderOutput(dataTable, element);\n",
              "          const docLink = document.createElement('div');\n",
              "          docLink.innerHTML = docLinkHtml;\n",
              "          element.appendChild(docLink);\n",
              "        }\n",
              "      </script>\n",
              "    </div>\n",
              "  </div>\n",
              "  "
            ]
          },
          "metadata": {},
          "execution_count": 4
        }
      ]
    },
    {
      "cell_type": "code",
      "source": [
        "data.info()"
      ],
      "metadata": {
        "id": "sjRcWARrIrMl",
        "colab": {
          "base_uri": "https://localhost:8080/"
        },
        "outputId": "6dce420e-f15f-4b66-edcb-a9867cd3b261"
      },
      "execution_count": 5,
      "outputs": [
        {
          "output_type": "stream",
          "name": "stdout",
          "text": [
            "<class 'pandas.core.frame.DataFrame'>\n",
            "RangeIndex: 354369 entries, 0 to 354368\n",
            "Data columns (total 16 columns):\n",
            " #   Column             Non-Null Count   Dtype \n",
            "---  ------             --------------   ----- \n",
            " 0   DateCrawled        354369 non-null  object\n",
            " 1   Price              354369 non-null  int64 \n",
            " 2   VehicleType        316879 non-null  object\n",
            " 3   RegistrationYear   354369 non-null  int64 \n",
            " 4   Gearbox            334536 non-null  object\n",
            " 5   Power              354369 non-null  int64 \n",
            " 6   Model              334664 non-null  object\n",
            " 7   Kilometer          354369 non-null  int64 \n",
            " 8   RegistrationMonth  354369 non-null  int64 \n",
            " 9   FuelType           321474 non-null  object\n",
            " 10  Brand              354369 non-null  object\n",
            " 11  NotRepaired        283215 non-null  object\n",
            " 12  DateCreated        354369 non-null  object\n",
            " 13  NumberOfPictures   354369 non-null  int64 \n",
            " 14  PostalCode         354369 non-null  int64 \n",
            " 15  LastSeen           354369 non-null  object\n",
            "dtypes: int64(7), object(9)\n",
            "memory usage: 43.3+ MB\n"
          ]
        }
      ]
    },
    {
      "cell_type": "code",
      "source": [
        "data.describe()"
      ],
      "metadata": {
        "id": "ukTTJmIMIr6z",
        "colab": {
          "base_uri": "https://localhost:8080/",
          "height": 300
        },
        "outputId": "360afde7-7f88-45ef-d8ea-f23010f64836"
      },
      "execution_count": 6,
      "outputs": [
        {
          "output_type": "execute_result",
          "data": {
            "text/plain": [
              "               Price  RegistrationYear          Power      Kilometer  \\\n",
              "count  354369.000000     354369.000000  354369.000000  354369.000000   \n",
              "mean     4416.656776       2004.234448     110.094337  128211.172535   \n",
              "std      4514.158514         90.227958     189.850405   37905.341530   \n",
              "min         0.000000       1000.000000       0.000000    5000.000000   \n",
              "25%      1050.000000       1999.000000      69.000000  125000.000000   \n",
              "50%      2700.000000       2003.000000     105.000000  150000.000000   \n",
              "75%      6400.000000       2008.000000     143.000000  150000.000000   \n",
              "max     20000.000000       9999.000000   20000.000000  150000.000000   \n",
              "\n",
              "       RegistrationMonth  NumberOfPictures     PostalCode  \n",
              "count      354369.000000          354369.0  354369.000000  \n",
              "mean            5.714645               0.0   50508.689087  \n",
              "std             3.726421               0.0   25783.096248  \n",
              "min             0.000000               0.0    1067.000000  \n",
              "25%             3.000000               0.0   30165.000000  \n",
              "50%             6.000000               0.0   49413.000000  \n",
              "75%             9.000000               0.0   71083.000000  \n",
              "max            12.000000               0.0   99998.000000  "
            ],
            "text/html": [
              "\n",
              "  <div id=\"df-10a1111e-bd83-4578-8011-6356e07451fc\">\n",
              "    <div class=\"colab-df-container\">\n",
              "      <div>\n",
              "<style scoped>\n",
              "    .dataframe tbody tr th:only-of-type {\n",
              "        vertical-align: middle;\n",
              "    }\n",
              "\n",
              "    .dataframe tbody tr th {\n",
              "        vertical-align: top;\n",
              "    }\n",
              "\n",
              "    .dataframe thead th {\n",
              "        text-align: right;\n",
              "    }\n",
              "</style>\n",
              "<table border=\"1\" class=\"dataframe\">\n",
              "  <thead>\n",
              "    <tr style=\"text-align: right;\">\n",
              "      <th></th>\n",
              "      <th>Price</th>\n",
              "      <th>RegistrationYear</th>\n",
              "      <th>Power</th>\n",
              "      <th>Kilometer</th>\n",
              "      <th>RegistrationMonth</th>\n",
              "      <th>NumberOfPictures</th>\n",
              "      <th>PostalCode</th>\n",
              "    </tr>\n",
              "  </thead>\n",
              "  <tbody>\n",
              "    <tr>\n",
              "      <th>count</th>\n",
              "      <td>354369.000000</td>\n",
              "      <td>354369.000000</td>\n",
              "      <td>354369.000000</td>\n",
              "      <td>354369.000000</td>\n",
              "      <td>354369.000000</td>\n",
              "      <td>354369.0</td>\n",
              "      <td>354369.000000</td>\n",
              "    </tr>\n",
              "    <tr>\n",
              "      <th>mean</th>\n",
              "      <td>4416.656776</td>\n",
              "      <td>2004.234448</td>\n",
              "      <td>110.094337</td>\n",
              "      <td>128211.172535</td>\n",
              "      <td>5.714645</td>\n",
              "      <td>0.0</td>\n",
              "      <td>50508.689087</td>\n",
              "    </tr>\n",
              "    <tr>\n",
              "      <th>std</th>\n",
              "      <td>4514.158514</td>\n",
              "      <td>90.227958</td>\n",
              "      <td>189.850405</td>\n",
              "      <td>37905.341530</td>\n",
              "      <td>3.726421</td>\n",
              "      <td>0.0</td>\n",
              "      <td>25783.096248</td>\n",
              "    </tr>\n",
              "    <tr>\n",
              "      <th>min</th>\n",
              "      <td>0.000000</td>\n",
              "      <td>1000.000000</td>\n",
              "      <td>0.000000</td>\n",
              "      <td>5000.000000</td>\n",
              "      <td>0.000000</td>\n",
              "      <td>0.0</td>\n",
              "      <td>1067.000000</td>\n",
              "    </tr>\n",
              "    <tr>\n",
              "      <th>25%</th>\n",
              "      <td>1050.000000</td>\n",
              "      <td>1999.000000</td>\n",
              "      <td>69.000000</td>\n",
              "      <td>125000.000000</td>\n",
              "      <td>3.000000</td>\n",
              "      <td>0.0</td>\n",
              "      <td>30165.000000</td>\n",
              "    </tr>\n",
              "    <tr>\n",
              "      <th>50%</th>\n",
              "      <td>2700.000000</td>\n",
              "      <td>2003.000000</td>\n",
              "      <td>105.000000</td>\n",
              "      <td>150000.000000</td>\n",
              "      <td>6.000000</td>\n",
              "      <td>0.0</td>\n",
              "      <td>49413.000000</td>\n",
              "    </tr>\n",
              "    <tr>\n",
              "      <th>75%</th>\n",
              "      <td>6400.000000</td>\n",
              "      <td>2008.000000</td>\n",
              "      <td>143.000000</td>\n",
              "      <td>150000.000000</td>\n",
              "      <td>9.000000</td>\n",
              "      <td>0.0</td>\n",
              "      <td>71083.000000</td>\n",
              "    </tr>\n",
              "    <tr>\n",
              "      <th>max</th>\n",
              "      <td>20000.000000</td>\n",
              "      <td>9999.000000</td>\n",
              "      <td>20000.000000</td>\n",
              "      <td>150000.000000</td>\n",
              "      <td>12.000000</td>\n",
              "      <td>0.0</td>\n",
              "      <td>99998.000000</td>\n",
              "    </tr>\n",
              "  </tbody>\n",
              "</table>\n",
              "</div>\n",
              "      <button class=\"colab-df-convert\" onclick=\"convertToInteractive('df-10a1111e-bd83-4578-8011-6356e07451fc')\"\n",
              "              title=\"Convert this dataframe to an interactive table.\"\n",
              "              style=\"display:none;\">\n",
              "        \n",
              "  <svg xmlns=\"http://www.w3.org/2000/svg\" height=\"24px\"viewBox=\"0 0 24 24\"\n",
              "       width=\"24px\">\n",
              "    <path d=\"M0 0h24v24H0V0z\" fill=\"none\"/>\n",
              "    <path d=\"M18.56 5.44l.94 2.06.94-2.06 2.06-.94-2.06-.94-.94-2.06-.94 2.06-2.06.94zm-11 1L8.5 8.5l.94-2.06 2.06-.94-2.06-.94L8.5 2.5l-.94 2.06-2.06.94zm10 10l.94 2.06.94-2.06 2.06-.94-2.06-.94-.94-2.06-.94 2.06-2.06.94z\"/><path d=\"M17.41 7.96l-1.37-1.37c-.4-.4-.92-.59-1.43-.59-.52 0-1.04.2-1.43.59L10.3 9.45l-7.72 7.72c-.78.78-.78 2.05 0 2.83L4 21.41c.39.39.9.59 1.41.59.51 0 1.02-.2 1.41-.59l7.78-7.78 2.81-2.81c.8-.78.8-2.07 0-2.86zM5.41 20L4 18.59l7.72-7.72 1.47 1.35L5.41 20z\"/>\n",
              "  </svg>\n",
              "      </button>\n",
              "      \n",
              "  <style>\n",
              "    .colab-df-container {\n",
              "      display:flex;\n",
              "      flex-wrap:wrap;\n",
              "      gap: 12px;\n",
              "    }\n",
              "\n",
              "    .colab-df-convert {\n",
              "      background-color: #E8F0FE;\n",
              "      border: none;\n",
              "      border-radius: 50%;\n",
              "      cursor: pointer;\n",
              "      display: none;\n",
              "      fill: #1967D2;\n",
              "      height: 32px;\n",
              "      padding: 0 0 0 0;\n",
              "      width: 32px;\n",
              "    }\n",
              "\n",
              "    .colab-df-convert:hover {\n",
              "      background-color: #E2EBFA;\n",
              "      box-shadow: 0px 1px 2px rgba(60, 64, 67, 0.3), 0px 1px 3px 1px rgba(60, 64, 67, 0.15);\n",
              "      fill: #174EA6;\n",
              "    }\n",
              "\n",
              "    [theme=dark] .colab-df-convert {\n",
              "      background-color: #3B4455;\n",
              "      fill: #D2E3FC;\n",
              "    }\n",
              "\n",
              "    [theme=dark] .colab-df-convert:hover {\n",
              "      background-color: #434B5C;\n",
              "      box-shadow: 0px 1px 3px 1px rgba(0, 0, 0, 0.15);\n",
              "      filter: drop-shadow(0px 1px 2px rgba(0, 0, 0, 0.3));\n",
              "      fill: #FFFFFF;\n",
              "    }\n",
              "  </style>\n",
              "\n",
              "      <script>\n",
              "        const buttonEl =\n",
              "          document.querySelector('#df-10a1111e-bd83-4578-8011-6356e07451fc button.colab-df-convert');\n",
              "        buttonEl.style.display =\n",
              "          google.colab.kernel.accessAllowed ? 'block' : 'none';\n",
              "\n",
              "        async function convertToInteractive(key) {\n",
              "          const element = document.querySelector('#df-10a1111e-bd83-4578-8011-6356e07451fc');\n",
              "          const dataTable =\n",
              "            await google.colab.kernel.invokeFunction('convertToInteractive',\n",
              "                                                     [key], {});\n",
              "          if (!dataTable) return;\n",
              "\n",
              "          const docLinkHtml = 'Like what you see? Visit the ' +\n",
              "            '<a target=\"_blank\" href=https://colab.research.google.com/notebooks/data_table.ipynb>data table notebook</a>'\n",
              "            + ' to learn more about interactive tables.';\n",
              "          element.innerHTML = '';\n",
              "          dataTable['output_type'] = 'display_data';\n",
              "          await google.colab.output.renderOutput(dataTable, element);\n",
              "          const docLink = document.createElement('div');\n",
              "          docLink.innerHTML = docLinkHtml;\n",
              "          element.appendChild(docLink);\n",
              "        }\n",
              "      </script>\n",
              "    </div>\n",
              "  </div>\n",
              "  "
            ]
          },
          "metadata": {},
          "execution_count": 6
        }
      ]
    },
    {
      "cell_type": "markdown",
      "source": [
        "Нам доступно 354369 строк данных. Приступим в предобработке."
      ],
      "metadata": {
        "id": "GL8bUiv7I92x"
      }
    },
    {
      "cell_type": "markdown",
      "source": [
        "# **Data preparation**"
      ],
      "metadata": {
        "id": "Qkre1UyaNHyo"
      }
    },
    {
      "cell_type": "markdown",
      "source": [
        "Для начала исправим названия колонок (уберем заглавные символы и применим змеиный регистр)."
      ],
      "metadata": {
        "id": "GvUTZUa9xqg5"
      }
    },
    {
      "cell_type": "code",
      "source": [
        "data.columns = ['date_crawled', 'price', 'vehicle_type', 'registration_year', \n",
        "                'gearbox','power', 'model', 'kilometer', 'registration_month',\n",
        "                'fuel_type', 'brand', 'is_repaired', 'date_created', \n",
        "                'number_of_pictures', 'postal_code', 'last_seen']"
      ],
      "metadata": {
        "id": "jNFtDlDTvzc-"
      },
      "execution_count": 7,
      "outputs": []
    },
    {
      "cell_type": "markdown",
      "source": [
        "Проверим на наличие дубликатов."
      ],
      "metadata": {
        "id": "uqxvtwqL2be2"
      }
    },
    {
      "cell_type": "code",
      "source": [
        "data.duplicated().sum()"
      ],
      "metadata": {
        "colab": {
          "base_uri": "https://localhost:8080/"
        },
        "id": "X1bWvguF2egF",
        "outputId": "63640684-c8dc-471b-eeb8-3455acca426f"
      },
      "execution_count": 8,
      "outputs": [
        {
          "output_type": "execute_result",
          "data": {
            "text/plain": [
              "4"
            ]
          },
          "metadata": {},
          "execution_count": 8
        }
      ]
    },
    {
      "cell_type": "markdown",
      "source": [
        "В данных присуствует 4 дубликата. Удалим их."
      ],
      "metadata": {
        "id": "ztMyUr_d4GAH"
      }
    },
    {
      "cell_type": "code",
      "source": [
        "data = data.drop_duplicates().reset_index(drop=True)"
      ],
      "metadata": {
        "id": "on7IHSlr4LYU"
      },
      "execution_count": 9,
      "outputs": []
    },
    {
      "cell_type": "markdown",
      "source": [
        "Теперь подправим типы данных."
      ],
      "metadata": {
        "id": "S-ENjTOs1Puz"
      }
    },
    {
      "cell_type": "code",
      "source": [
        "dt_cols = ['date_crawled', 'date_created', 'last_seen'] \n",
        "data[dt_cols] = data[dt_cols].apply(pd.to_datetime)"
      ],
      "metadata": {
        "id": "s6Z_Z5Ca1Thr"
      },
      "execution_count": 10,
      "outputs": []
    },
    {
      "cell_type": "code",
      "source": [
        "int_cols = ['price', 'registration_year', 'power', 'kilometer', 'registration_month', 'number_of_pictures', 'postal_code']\n",
        "data[int_cols] = data[int_cols].astype('int32')"
      ],
      "metadata": {
        "id": "DeW8Q6LFBQSV"
      },
      "execution_count": 11,
      "outputs": []
    },
    {
      "cell_type": "code",
      "source": [
        "data['is_repaired'] = data['is_repaired'].fillna('unknown')"
      ],
      "metadata": {
        "id": "BhcRMPYI2i_G"
      },
      "execution_count": 12,
      "outputs": []
    },
    {
      "cell_type": "markdown",
      "source": [
        "В колонке is_repaired присуствует много пропусков. Так как эта колонка содержит всего две категории ( yes и no), то присвоим пропускам категорию - 'unknown'."
      ],
      "metadata": {
        "id": "9OPzpmjjyQOS"
      }
    },
    {
      "cell_type": "markdown",
      "source": [
        "Существует много способов как заполнить пропуски. Так как в большинстве колонок пропусков довольно много, то просто удалить их было бы ошибкой. Для того, чтобы не искажать данные и не заполнять их например модой или медианой - я буду заполнять пропуски значением 'unknown'. Если колонка будет не категориальная или там будет незначительное кол-во пропусков, то имеет смысл просто удалить пропуски."
      ],
      "metadata": {
        "id": "asXJzMScuVg8"
      }
    },
    {
      "cell_type": "markdown",
      "source": [
        "Проанализируем колонку number_of_pictures."
      ],
      "metadata": {
        "id": "1F5FJv1hCD5i"
      }
    },
    {
      "cell_type": "code",
      "source": [
        "data['number_of_pictures'].unique()"
      ],
      "metadata": {
        "id": "V3nbVvcCNBWl",
        "colab": {
          "base_uri": "https://localhost:8080/"
        },
        "outputId": "86f42874-132d-4f88-80d3-1af292e92ecf"
      },
      "execution_count": 13,
      "outputs": [
        {
          "output_type": "execute_result",
          "data": {
            "text/plain": [
              "array([0], dtype=int32)"
            ]
          },
          "metadata": {},
          "execution_count": 13
        }
      ]
    },
    {
      "cell_type": "markdown",
      "source": [
        "Как мы видим в колонке number_of_pictures все значения равны 0. Удалим ее, так как данная колонка бесполезна."
      ],
      "metadata": {
        "id": "vDg5GWu3zuIS"
      }
    },
    {
      "cell_type": "code",
      "source": [
        "data = data.drop('number_of_pictures', axis = 1)"
      ],
      "metadata": {
        "id": "0lqQLY3d0JWl"
      },
      "execution_count": 14,
      "outputs": []
    },
    {
      "cell_type": "markdown",
      "source": [
        "Изучим колонку date_created.\n",
        "\n",
        "\n"
      ],
      "metadata": {
        "id": "l6sM95sIiHTT"
      }
    },
    {
      "cell_type": "code",
      "source": [
        "data['date_created'].dt.year.value_counts()"
      ],
      "metadata": {
        "colab": {
          "base_uri": "https://localhost:8080/"
        },
        "id": "ttPez77KeuFI",
        "outputId": "7d88a947-02db-45cf-da79-7e310eae986e"
      },
      "execution_count": 15,
      "outputs": [
        {
          "output_type": "execute_result",
          "data": {
            "text/plain": [
              "2016    354339\n",
              "2015        25\n",
              "2014         1\n",
              "Name: date_created, dtype: int64"
            ]
          },
          "metadata": {},
          "execution_count": 15
        }
      ]
    },
    {
      "cell_type": "markdown",
      "source": [
        "В датасете в основном анкеты были созданы в 2016 году."
      ],
      "metadata": {
        "id": "CssBn06SibUj"
      }
    },
    {
      "cell_type": "markdown",
      "source": [
        "Нам не понадобятся колонки date_crawled, date_created, last_seen, так как они никакой полезной информации в себе не несут. Поэтому удалим их."
      ],
      "metadata": {
        "id": "JIY_O3j4il4B"
      }
    },
    {
      "cell_type": "code",
      "source": [
        "data = data.drop(['date_crawled', 'date_created', 'last_seen'], axis = 1)"
      ],
      "metadata": {
        "id": "sDJmoHYLjRcS"
      },
      "execution_count": 16,
      "outputs": []
    },
    {
      "cell_type": "markdown",
      "source": [
        "Изучим колонку registration_year."
      ],
      "metadata": {
        "id": "GbWeINWyjRQz"
      }
    },
    {
      "cell_type": "code",
      "source": [
        "data['registration_year'].min()"
      ],
      "metadata": {
        "colab": {
          "base_uri": "https://localhost:8080/"
        },
        "id": "TSpH__ZfjdBX",
        "outputId": "cff6e397-6ae4-4c71-ad52-914c30dd7360"
      },
      "execution_count": 17,
      "outputs": [
        {
          "output_type": "execute_result",
          "data": {
            "text/plain": [
              "1000"
            ]
          },
          "metadata": {},
          "execution_count": 17
        }
      ]
    },
    {
      "cell_type": "code",
      "source": [
        "data['registration_year'].max()"
      ],
      "metadata": {
        "colab": {
          "base_uri": "https://localhost:8080/"
        },
        "id": "ap65Fh1xkV6C",
        "outputId": "f962c401-1b1c-4d20-d7ae-ad45f9f437a5"
      },
      "execution_count": 18,
      "outputs": [
        {
          "output_type": "execute_result",
          "data": {
            "text/plain": [
              "9999"
            ]
          },
          "metadata": {},
          "execution_count": 18
        }
      ]
    },
    {
      "cell_type": "markdown",
      "source": [
        "Присутсвует много странных значений. Например, как будто кто-то зарегестрировал автомобиль в 1400 году, хотя тогда автомобилей вообще не существовало или кто-то зарегестрировал автомобиль в 8200 году, хотя в колонке даты создания анкеты максимальный год - 2016."
      ],
      "metadata": {
        "id": "rMVxER5dk6Kl"
      }
    },
    {
      "cell_type": "markdown",
      "source": [
        "Удалим все строки с годом регистрации автомобиля больше 2016 года и меньше 1970 года."
      ],
      "metadata": {
        "id": "LvsDxbItmyiq"
      }
    },
    {
      "cell_type": "code",
      "source": [
        "data = data[(data['registration_year'] < 2017) & (data['registration_year'] >= 1970)]"
      ],
      "metadata": {
        "id": "HoEMwuTDm5d5"
      },
      "execution_count": 19,
      "outputs": []
    },
    {
      "cell_type": "markdown",
      "source": [
        "Изучим колонку vehicle_type."
      ],
      "metadata": {
        "id": "Tz52h3cIzizg"
      }
    },
    {
      "cell_type": "code",
      "source": [
        "data['vehicle_type'].value_counts()"
      ],
      "metadata": {
        "colab": {
          "base_uri": "https://localhost:8080/"
        },
        "id": "NqBNI-wbezHk",
        "outputId": "d04b055d-c9db-4b7c-9677-34063050038b"
      },
      "execution_count": 20,
      "outputs": [
        {
          "output_type": "execute_result",
          "data": {
            "text/plain": [
              "sedan          91018\n",
              "small          79717\n",
              "wagon          65119\n",
              "bus            28742\n",
              "convertible    20085\n",
              "coupe          15982\n",
              "suv            11912\n",
              "other           3205\n",
              "Name: vehicle_type, dtype: int64"
            ]
          },
          "metadata": {},
          "execution_count": 20
        }
      ]
    },
    {
      "cell_type": "code",
      "source": [
        "data['vehicle_type'].isna().sum()"
      ],
      "metadata": {
        "colab": {
          "base_uri": "https://localhost:8080/"
        },
        "id": "d1NBwvpwfX1Z",
        "outputId": "afb9b6a7-e1ed-439d-af17-db91c5f89008"
      },
      "execution_count": 21,
      "outputs": [
        {
          "output_type": "execute_result",
          "data": {
            "text/plain": [
              "22717"
            ]
          },
          "metadata": {},
          "execution_count": 21
        }
      ]
    },
    {
      "cell_type": "markdown",
      "source": [
        "Пропусков много. Поступим с ними также, как в колонке is_reapired."
      ],
      "metadata": {
        "id": "qNZwTFjw1r0w"
      }
    },
    {
      "cell_type": "code",
      "source": [
        "data['vehicle_type'] = data['vehicle_type'].fillna('unknown')"
      ],
      "metadata": {
        "id": "G80AwiQa16mc"
      },
      "execution_count": 22,
      "outputs": []
    },
    {
      "cell_type": "markdown",
      "source": [
        "В данных присутсвуют строки в которых цена машины равна нулю. Такого быть не может, поэтому удалим их."
      ],
      "metadata": {
        "id": "Aiwr9rgYhG2T"
      }
    },
    {
      "cell_type": "code",
      "source": [
        "len(data[data['price'] == 0])"
      ],
      "metadata": {
        "colab": {
          "base_uri": "https://localhost:8080/"
        },
        "id": "Y5Mt3UhGhPh9",
        "outputId": "78c651f8-cd63-4ca4-8359-2b00935368dc"
      },
      "execution_count": 23,
      "outputs": [
        {
          "output_type": "execute_result",
          "data": {
            "text/plain": [
              "9858"
            ]
          },
          "metadata": {},
          "execution_count": 23
        }
      ]
    },
    {
      "cell_type": "code",
      "source": [
        "data = data[data['price'] != 0]"
      ],
      "metadata": {
        "id": "9HTeGjN6gU4y"
      },
      "execution_count": 24,
      "outputs": []
    },
    {
      "cell_type": "markdown",
      "source": [
        "В колонке power тоже много нулевых значений. Можно попробовать как-нибудь спарсить значение лошадиных сил по имеющейся марке и модели автомобиля. Такой вариант потребует много времени и усилий. Попробуем что-то попробще. Так как это не категориальная колонка, то мы не можем просто создать новую категорию 'unknown', поэтому просто удалим эти строки."
      ],
      "metadata": {
        "id": "BooxmTXfhYi2"
      }
    },
    {
      "cell_type": "code",
      "source": [
        "len(data[data['power'] == 0])"
      ],
      "metadata": {
        "colab": {
          "base_uri": "https://localhost:8080/"
        },
        "id": "DTM7E_BnhDGT",
        "outputId": "b35b41f2-c8e6-4c53-9778-3a005d969f96"
      },
      "execution_count": 25,
      "outputs": [
        {
          "output_type": "execute_result",
          "data": {
            "text/plain": [
              "32465"
            ]
          },
          "metadata": {},
          "execution_count": 25
        }
      ]
    },
    {
      "cell_type": "code",
      "source": [
        "data = data[data['power'] != 0]"
      ],
      "metadata": {
        "id": "sQb086gj3IYM"
      },
      "execution_count": 26,
      "outputs": []
    },
    {
      "cell_type": "markdown",
      "source": [
        "Еще в колонке power много странных значений. Например 20к лошадиных сил."
      ],
      "metadata": {
        "id": "xU3-eZ7Tts7W"
      }
    },
    {
      "cell_type": "code",
      "source": [
        "data['power'].max()"
      ],
      "metadata": {
        "colab": {
          "base_uri": "https://localhost:8080/"
        },
        "id": "MFNzkpvAtxlv",
        "outputId": "b657a257-02fd-400f-eaae-8b2ede863dd1"
      },
      "execution_count": 27,
      "outputs": [
        {
          "output_type": "execute_result",
          "data": {
            "text/plain": [
              "20000"
            ]
          },
          "metadata": {},
          "execution_count": 27
        }
      ]
    },
    {
      "cell_type": "code",
      "source": [
        "data['power'].median()"
      ],
      "metadata": {
        "colab": {
          "base_uri": "https://localhost:8080/"
        },
        "id": "E-uRjy6ot1oo",
        "outputId": "69372545-fc37-4c83-d465-415512dcad4b"
      },
      "execution_count": 28,
      "outputs": [
        {
          "output_type": "execute_result",
          "data": {
            "text/plain": [
              "111.0"
            ]
          },
          "metadata": {},
          "execution_count": 28
        }
      ]
    },
    {
      "cell_type": "markdown",
      "source": [
        "Удалим строки с лошадиными силами выше 1000. Если что потом в EDA еще по лучше подправим посмотрев на гистрограмму."
      ],
      "metadata": {
        "id": "D1B496NWuCMm"
      }
    },
    {
      "cell_type": "code",
      "source": [
        "data = data[data['power'] <= 1000]"
      ],
      "metadata": {
        "id": "4Gm9b4XjuYqU"
      },
      "execution_count": 29,
      "outputs": []
    },
    {
      "cell_type": "markdown",
      "source": [
        "Изучим колонку brand."
      ],
      "metadata": {
        "id": "pq1WN39R0jgd"
      }
    },
    {
      "cell_type": "code",
      "source": [
        "data['brand'].value_counts()"
      ],
      "metadata": {
        "colab": {
          "base_uri": "https://localhost:8080/"
        },
        "id": "vty88SRx0mhf",
        "outputId": "bac16133-3d61-499c-fa6d-e6baf6fb047c"
      },
      "execution_count": 30,
      "outputs": [
        {
          "output_type": "execute_result",
          "data": {
            "text/plain": [
              "volkswagen        64056\n",
              "opel              32487\n",
              "bmw               32267\n",
              "mercedes_benz     27283\n",
              "audi              25632\n",
              "ford              20650\n",
              "renault           13937\n",
              "peugeot            9413\n",
              "fiat               7644\n",
              "seat               5861\n",
              "skoda              4945\n",
              "mazda              4726\n",
              "smart              4487\n",
              "citroen            4247\n",
              "nissan             4048\n",
              "toyota             4014\n",
              "hyundai            3110\n",
              "mini               2964\n",
              "volvo              2795\n",
              "mitsubishi         2499\n",
              "honda              2365\n",
              "kia                2088\n",
              "alfa_romeo         1973\n",
              "suzuki             1965\n",
              "sonstige_autos     1665\n",
              "chevrolet          1438\n",
              "chrysler           1158\n",
              "dacia               801\n",
              "subaru              647\n",
              "porsche             621\n",
              "daihatsu            616\n",
              "jeep                565\n",
              "saab                474\n",
              "land_rover          462\n",
              "jaguar              436\n",
              "daewoo              411\n",
              "lancia              382\n",
              "rover               367\n",
              "trabant             258\n",
              "lada                157\n",
              "Name: brand, dtype: int64"
            ]
          },
          "metadata": {},
          "execution_count": 30
        }
      ]
    },
    {
      "cell_type": "markdown",
      "source": [
        "Очень много разных брендов. Оставим только 18 самых популярных, а остальных закинем в категорию 'other'."
      ],
      "metadata": {
        "id": "K27ia2_L1C_n"
      }
    },
    {
      "cell_type": "code",
      "source": [
        "top18 = data['brand'].value_counts()[:18].index\n",
        "data['brand'] = data['brand'].apply(lambda x: 'other' if x not in top18 else x)"
      ],
      "metadata": {
        "id": "7qPh8hF809r3"
      },
      "execution_count": 31,
      "outputs": []
    },
    {
      "cell_type": "markdown",
      "source": [
        "Изучим  колонку fuel_type."
      ],
      "metadata": {
        "id": "LQsg_LtA4KOa"
      }
    },
    {
      "cell_type": "code",
      "source": [
        "data['fuel_type'].value_counts()"
      ],
      "metadata": {
        "colab": {
          "base_uri": "https://localhost:8080/"
        },
        "id": "lBBd4assjnAO",
        "outputId": "d77e9a2c-832a-4f78-fa33-8baac92614c6"
      },
      "execution_count": 32,
      "outputs": [
        {
          "output_type": "execute_result",
          "data": {
            "text/plain": [
              "petrol      187003\n",
              "gasoline     87834\n",
              "lpg           4684\n",
              "cng            483\n",
              "hybrid         202\n",
              "other           88\n",
              "electric        76\n",
              "Name: fuel_type, dtype: int64"
            ]
          },
          "metadata": {},
          "execution_count": 32
        }
      ]
    },
    {
      "cell_type": "code",
      "source": [
        "data['fuel_type'].isna().sum()"
      ],
      "metadata": {
        "colab": {
          "base_uri": "https://localhost:8080/"
        },
        "id": "iG2CaCuhlA5r",
        "outputId": "d99c790e-d197-4bd2-9c4d-a5bc355351b8"
      },
      "execution_count": 33,
      "outputs": [
        {
          "output_type": "execute_result",
          "data": {
            "text/plain": [
              "15544"
            ]
          },
          "metadata": {},
          "execution_count": 33
        }
      ]
    },
    {
      "cell_type": "markdown",
      "source": [
        "Также много пропусков. Заполним их значением 'unknown'."
      ],
      "metadata": {
        "id": "hdZcUmiH4vJG"
      }
    },
    {
      "cell_type": "code",
      "source": [
        "data['fuel_type'] = data['fuel_type'].fillna('unknown')"
      ],
      "metadata": {
        "id": "aj-I2ovD44uO"
      },
      "execution_count": 34,
      "outputs": []
    },
    {
      "cell_type": "markdown",
      "source": [
        "Изучим колонку model."
      ],
      "metadata": {
        "id": "a3XjsBzP6jDH"
      }
    },
    {
      "cell_type": "code",
      "source": [
        "data['model'].value_counts()"
      ],
      "metadata": {
        "colab": {
          "base_uri": "https://localhost:8080/"
        },
        "id": "ERXbWWqxlE2d",
        "outputId": "c929307c-73f3-477d-f93f-2f76b4cd341a"
      },
      "execution_count": 35,
      "outputs": [
        {
          "output_type": "execute_result",
          "data": {
            "text/plain": [
              "golf                  24728\n",
              "other                 20126\n",
              "3er                   17387\n",
              "polo                  10696\n",
              "corsa                 10134\n",
              "                      ...  \n",
              "samara                    5\n",
              "serie_2                   4\n",
              "serie_3                   3\n",
              "rangerover                2\n",
              "range_rover_evoque        2\n",
              "Name: model, Length: 249, dtype: int64"
            ]
          },
          "metadata": {},
          "execution_count": 35
        }
      ]
    },
    {
      "cell_type": "markdown",
      "source": [
        "В данной колонки слишком много категорий. Оставим только 20 самых пополярных, а остальных поместим в категорию 'other'."
      ],
      "metadata": {
        "id": "7Gvir_-u6mvO"
      }
    },
    {
      "cell_type": "code",
      "source": [
        "top20 = data['model'].value_counts()[:21].index # 21 потому что в этом топе присуствует значение other."
      ],
      "metadata": {
        "id": "IVaBXRfEE8oJ"
      },
      "execution_count": 36,
      "outputs": []
    },
    {
      "cell_type": "code",
      "source": [
        "data['model'] = data['model'].apply(lambda x: 'other' if x not in top20 else x)"
      ],
      "metadata": {
        "id": "aJZ41yXOGZhP"
      },
      "execution_count": 37,
      "outputs": []
    },
    {
      "cell_type": "markdown",
      "source": [
        "Изучим колонку gearbox."
      ],
      "metadata": {
        "id": "bc7Sno-oHDuG"
      }
    },
    {
      "cell_type": "code",
      "source": [
        "data['gearbox'].value_counts()"
      ],
      "metadata": {
        "colab": {
          "base_uri": "https://localhost:8080/"
        },
        "id": "DrkWoXpIlaI2",
        "outputId": "9001b6d3-0e0f-48fc-a1b4-737147cf762a"
      },
      "execution_count": 38,
      "outputs": [
        {
          "output_type": "execute_result",
          "data": {
            "text/plain": [
              "manual    231747\n",
              "auto       58815\n",
              "Name: gearbox, dtype: int64"
            ]
          },
          "metadata": {},
          "execution_count": 38
        }
      ]
    },
    {
      "cell_type": "code",
      "source": [
        "data['gearbox'].isna().sum()"
      ],
      "metadata": {
        "colab": {
          "base_uri": "https://localhost:8080/"
        },
        "id": "gRejbSeplg-z",
        "outputId": "235033cf-9a59-467a-fa4d-89bd90e3755b"
      },
      "execution_count": 39,
      "outputs": [
        {
          "output_type": "execute_result",
          "data": {
            "text/plain": [
              "5352"
            ]
          },
          "metadata": {},
          "execution_count": 39
        }
      ]
    },
    {
      "cell_type": "markdown",
      "source": [
        "В колонке gearbox пропусков незначительное кол-во. Можно заполнить пропуски значением 'auto', чтобы немного уменьшить дисбаланс классов, но давайте не будет искажать данные и просто удалим пропуски."
      ],
      "metadata": {
        "id": "mYdWNN8pHcWV"
      }
    },
    {
      "cell_type": "code",
      "source": [
        "data = data.dropna(subset=['gearbox'])"
      ],
      "metadata": {
        "id": "yCABhwAoIZsp"
      },
      "execution_count": 40,
      "outputs": []
    },
    {
      "cell_type": "markdown",
      "source": [
        "Предобработка завершена. Посмотрим на предобработанные данные и перейдем к EDA."
      ],
      "metadata": {
        "id": "t-gp68vsI8UK"
      }
    },
    {
      "cell_type": "code",
      "source": [
        "data.head()"
      ],
      "metadata": {
        "colab": {
          "base_uri": "https://localhost:8080/",
          "height": 206
        },
        "id": "MnIe3AE5JDhw",
        "outputId": "ec54cb5f-4fc2-4c16-dc9e-56ee27af155c"
      },
      "execution_count": 41,
      "outputs": [
        {
          "output_type": "execute_result",
          "data": {
            "text/plain": [
              "   price vehicle_type  registration_year gearbox  power  model  kilometer  \\\n",
              "1  18300        coupe               2011  manual    190  other     125000   \n",
              "2   9800          suv               2004    auto    163  other     125000   \n",
              "3   1500        small               2001  manual     75   golf     150000   \n",
              "4   3600        small               2008  manual     69  other      90000   \n",
              "5    650        sedan               1995  manual    102    3er     150000   \n",
              "\n",
              "   registration_month fuel_type       brand is_repaired  postal_code  \n",
              "1                   5  gasoline        audi         yes        66954  \n",
              "2                   8  gasoline       other     unknown        90480  \n",
              "3                   6    petrol  volkswagen          no        91074  \n",
              "4                   7  gasoline       skoda          no        60437  \n",
              "5                  10    petrol         bmw         yes        33775  "
            ],
            "text/html": [
              "\n",
              "  <div id=\"df-a25b5074-c56a-42a2-a06a-b239e9107f62\">\n",
              "    <div class=\"colab-df-container\">\n",
              "      <div>\n",
              "<style scoped>\n",
              "    .dataframe tbody tr th:only-of-type {\n",
              "        vertical-align: middle;\n",
              "    }\n",
              "\n",
              "    .dataframe tbody tr th {\n",
              "        vertical-align: top;\n",
              "    }\n",
              "\n",
              "    .dataframe thead th {\n",
              "        text-align: right;\n",
              "    }\n",
              "</style>\n",
              "<table border=\"1\" class=\"dataframe\">\n",
              "  <thead>\n",
              "    <tr style=\"text-align: right;\">\n",
              "      <th></th>\n",
              "      <th>price</th>\n",
              "      <th>vehicle_type</th>\n",
              "      <th>registration_year</th>\n",
              "      <th>gearbox</th>\n",
              "      <th>power</th>\n",
              "      <th>model</th>\n",
              "      <th>kilometer</th>\n",
              "      <th>registration_month</th>\n",
              "      <th>fuel_type</th>\n",
              "      <th>brand</th>\n",
              "      <th>is_repaired</th>\n",
              "      <th>postal_code</th>\n",
              "    </tr>\n",
              "  </thead>\n",
              "  <tbody>\n",
              "    <tr>\n",
              "      <th>1</th>\n",
              "      <td>18300</td>\n",
              "      <td>coupe</td>\n",
              "      <td>2011</td>\n",
              "      <td>manual</td>\n",
              "      <td>190</td>\n",
              "      <td>other</td>\n",
              "      <td>125000</td>\n",
              "      <td>5</td>\n",
              "      <td>gasoline</td>\n",
              "      <td>audi</td>\n",
              "      <td>yes</td>\n",
              "      <td>66954</td>\n",
              "    </tr>\n",
              "    <tr>\n",
              "      <th>2</th>\n",
              "      <td>9800</td>\n",
              "      <td>suv</td>\n",
              "      <td>2004</td>\n",
              "      <td>auto</td>\n",
              "      <td>163</td>\n",
              "      <td>other</td>\n",
              "      <td>125000</td>\n",
              "      <td>8</td>\n",
              "      <td>gasoline</td>\n",
              "      <td>other</td>\n",
              "      <td>unknown</td>\n",
              "      <td>90480</td>\n",
              "    </tr>\n",
              "    <tr>\n",
              "      <th>3</th>\n",
              "      <td>1500</td>\n",
              "      <td>small</td>\n",
              "      <td>2001</td>\n",
              "      <td>manual</td>\n",
              "      <td>75</td>\n",
              "      <td>golf</td>\n",
              "      <td>150000</td>\n",
              "      <td>6</td>\n",
              "      <td>petrol</td>\n",
              "      <td>volkswagen</td>\n",
              "      <td>no</td>\n",
              "      <td>91074</td>\n",
              "    </tr>\n",
              "    <tr>\n",
              "      <th>4</th>\n",
              "      <td>3600</td>\n",
              "      <td>small</td>\n",
              "      <td>2008</td>\n",
              "      <td>manual</td>\n",
              "      <td>69</td>\n",
              "      <td>other</td>\n",
              "      <td>90000</td>\n",
              "      <td>7</td>\n",
              "      <td>gasoline</td>\n",
              "      <td>skoda</td>\n",
              "      <td>no</td>\n",
              "      <td>60437</td>\n",
              "    </tr>\n",
              "    <tr>\n",
              "      <th>5</th>\n",
              "      <td>650</td>\n",
              "      <td>sedan</td>\n",
              "      <td>1995</td>\n",
              "      <td>manual</td>\n",
              "      <td>102</td>\n",
              "      <td>3er</td>\n",
              "      <td>150000</td>\n",
              "      <td>10</td>\n",
              "      <td>petrol</td>\n",
              "      <td>bmw</td>\n",
              "      <td>yes</td>\n",
              "      <td>33775</td>\n",
              "    </tr>\n",
              "  </tbody>\n",
              "</table>\n",
              "</div>\n",
              "      <button class=\"colab-df-convert\" onclick=\"convertToInteractive('df-a25b5074-c56a-42a2-a06a-b239e9107f62')\"\n",
              "              title=\"Convert this dataframe to an interactive table.\"\n",
              "              style=\"display:none;\">\n",
              "        \n",
              "  <svg xmlns=\"http://www.w3.org/2000/svg\" height=\"24px\"viewBox=\"0 0 24 24\"\n",
              "       width=\"24px\">\n",
              "    <path d=\"M0 0h24v24H0V0z\" fill=\"none\"/>\n",
              "    <path d=\"M18.56 5.44l.94 2.06.94-2.06 2.06-.94-2.06-.94-.94-2.06-.94 2.06-2.06.94zm-11 1L8.5 8.5l.94-2.06 2.06-.94-2.06-.94L8.5 2.5l-.94 2.06-2.06.94zm10 10l.94 2.06.94-2.06 2.06-.94-2.06-.94-.94-2.06-.94 2.06-2.06.94z\"/><path d=\"M17.41 7.96l-1.37-1.37c-.4-.4-.92-.59-1.43-.59-.52 0-1.04.2-1.43.59L10.3 9.45l-7.72 7.72c-.78.78-.78 2.05 0 2.83L4 21.41c.39.39.9.59 1.41.59.51 0 1.02-.2 1.41-.59l7.78-7.78 2.81-2.81c.8-.78.8-2.07 0-2.86zM5.41 20L4 18.59l7.72-7.72 1.47 1.35L5.41 20z\"/>\n",
              "  </svg>\n",
              "      </button>\n",
              "      \n",
              "  <style>\n",
              "    .colab-df-container {\n",
              "      display:flex;\n",
              "      flex-wrap:wrap;\n",
              "      gap: 12px;\n",
              "    }\n",
              "\n",
              "    .colab-df-convert {\n",
              "      background-color: #E8F0FE;\n",
              "      border: none;\n",
              "      border-radius: 50%;\n",
              "      cursor: pointer;\n",
              "      display: none;\n",
              "      fill: #1967D2;\n",
              "      height: 32px;\n",
              "      padding: 0 0 0 0;\n",
              "      width: 32px;\n",
              "    }\n",
              "\n",
              "    .colab-df-convert:hover {\n",
              "      background-color: #E2EBFA;\n",
              "      box-shadow: 0px 1px 2px rgba(60, 64, 67, 0.3), 0px 1px 3px 1px rgba(60, 64, 67, 0.15);\n",
              "      fill: #174EA6;\n",
              "    }\n",
              "\n",
              "    [theme=dark] .colab-df-convert {\n",
              "      background-color: #3B4455;\n",
              "      fill: #D2E3FC;\n",
              "    }\n",
              "\n",
              "    [theme=dark] .colab-df-convert:hover {\n",
              "      background-color: #434B5C;\n",
              "      box-shadow: 0px 1px 3px 1px rgba(0, 0, 0, 0.15);\n",
              "      filter: drop-shadow(0px 1px 2px rgba(0, 0, 0, 0.3));\n",
              "      fill: #FFFFFF;\n",
              "    }\n",
              "  </style>\n",
              "\n",
              "      <script>\n",
              "        const buttonEl =\n",
              "          document.querySelector('#df-a25b5074-c56a-42a2-a06a-b239e9107f62 button.colab-df-convert');\n",
              "        buttonEl.style.display =\n",
              "          google.colab.kernel.accessAllowed ? 'block' : 'none';\n",
              "\n",
              "        async function convertToInteractive(key) {\n",
              "          const element = document.querySelector('#df-a25b5074-c56a-42a2-a06a-b239e9107f62');\n",
              "          const dataTable =\n",
              "            await google.colab.kernel.invokeFunction('convertToInteractive',\n",
              "                                                     [key], {});\n",
              "          if (!dataTable) return;\n",
              "\n",
              "          const docLinkHtml = 'Like what you see? Visit the ' +\n",
              "            '<a target=\"_blank\" href=https://colab.research.google.com/notebooks/data_table.ipynb>data table notebook</a>'\n",
              "            + ' to learn more about interactive tables.';\n",
              "          element.innerHTML = '';\n",
              "          dataTable['output_type'] = 'display_data';\n",
              "          await google.colab.output.renderOutput(dataTable, element);\n",
              "          const docLink = document.createElement('div');\n",
              "          docLink.innerHTML = docLinkHtml;\n",
              "          element.appendChild(docLink);\n",
              "        }\n",
              "      </script>\n",
              "    </div>\n",
              "  </div>\n",
              "  "
            ]
          },
          "metadata": {},
          "execution_count": 41
        }
      ]
    },
    {
      "cell_type": "code",
      "source": [
        "data.info()"
      ],
      "metadata": {
        "colab": {
          "base_uri": "https://localhost:8080/"
        },
        "id": "CQQ8DB32JGO-",
        "outputId": "eb71b0b9-bed3-4ae2-d8cc-7253a92b4036"
      },
      "execution_count": 42,
      "outputs": [
        {
          "output_type": "stream",
          "name": "stdout",
          "text": [
            "<class 'pandas.core.frame.DataFrame'>\n",
            "Int64Index: 290562 entries, 1 to 354364\n",
            "Data columns (total 12 columns):\n",
            " #   Column              Non-Null Count   Dtype \n",
            "---  ------              --------------   ----- \n",
            " 0   price               290562 non-null  int32 \n",
            " 1   vehicle_type        290562 non-null  object\n",
            " 2   registration_year   290562 non-null  int32 \n",
            " 3   gearbox             290562 non-null  object\n",
            " 4   power               290562 non-null  int32 \n",
            " 5   model               290562 non-null  object\n",
            " 6   kilometer           290562 non-null  int32 \n",
            " 7   registration_month  290562 non-null  int32 \n",
            " 8   fuel_type           290562 non-null  object\n",
            " 9   brand               290562 non-null  object\n",
            " 10  is_repaired         290562 non-null  object\n",
            " 11  postal_code         290562 non-null  int32 \n",
            "dtypes: int32(6), object(6)\n",
            "memory usage: 22.2+ MB\n"
          ]
        }
      ]
    },
    {
      "cell_type": "markdown",
      "source": [
        "# **EDA**"
      ],
      "metadata": {
        "id": "K0q_dxCPcF7C"
      }
    },
    {
      "cell_type": "markdown",
      "source": [
        "Посмотрим на распределение таргета."
      ],
      "metadata": {
        "id": "e1QoZJBCdUnG"
      }
    },
    {
      "cell_type": "code",
      "source": [
        "plt.figure(figsize=(12, 9))\n",
        "sns.histplot(data['price'], bins=15, color='royalblue')\n",
        "plt.title('price distribution')"
      ],
      "metadata": {
        "colab": {
          "base_uri": "https://localhost:8080/",
          "height": 590
        },
        "id": "lFdQ092lcH6A",
        "outputId": "b25dac4f-a988-4e75-dfa1-fc7b2f5f9ba1"
      },
      "execution_count": 43,
      "outputs": [
        {
          "output_type": "execute_result",
          "data": {
            "text/plain": [
              "Text(0.5, 1.0, 'price distribution')"
            ]
          },
          "metadata": {},
          "execution_count": 43
        },
        {
          "output_type": "display_data",
          "data": {
            "text/plain": [
              "<Figure size 864x648 with 1 Axes>"
            ],
            "image/png": "[encoded data removed]"
          },
          "metadata": {}
        }
      ]
    },
    {
      "cell_type": "markdown",
      "source": [
        "Цена распределна экспоненциально. "
      ],
      "metadata": {
        "id": "VLmweJBsda_M"
      }
    },
    {
      "cell_type": "code",
      "source": [
        "plt.figure(figsize=(18, 6))\n",
        "sns.boxplot(data['price'], color='royalblue')"
      ],
      "metadata": {
        "colab": {
          "base_uri": "https://localhost:8080/",
          "height": 411
        },
        "id": "p-JooNF6fyWj",
        "outputId": "dccd765b-1f4e-4ea7-95fb-9ca75fa8ca20"
      },
      "execution_count": 44,
      "outputs": [
        {
          "output_type": "execute_result",
          "data": {
            "text/plain": [
              "<matplotlib.axes._subplots.AxesSubplot at 0x7f8fc2565290>"
            ]
          },
          "metadata": {},
          "execution_count": 44
        },
        {
          "output_type": "display_data",
          "data": {
            "text/plain": [
              "<Figure size 1296x432 with 1 Axes>"
            ],
            "image/png": "[encoded data removed]"
          },
          "metadata": {}
        }
      ]
    },
    {
      "cell_type": "markdown",
      "source": [
        "В таргете присуствуют выбросы - удалим их."
      ],
      "metadata": {
        "id": "5cAwvBKh4tJg"
      }
    },
    {
      "cell_type": "code",
      "source": [
        "data = data[data['price'] <= 15500]"
      ],
      "metadata": {
        "id": "_wwi6RIQ4viT"
      },
      "execution_count": 45,
      "outputs": []
    },
    {
      "cell_type": "code",
      "source": [
        "plt.figure(figsize=(12, 9))\n",
        "sns.histplot(data['kilometer'], bins=7, color='royalblue')\n",
        "plt.title('mileage distribution')"
      ],
      "metadata": {
        "colab": {
          "base_uri": "https://localhost:8080/",
          "height": 590
        },
        "id": "4j_hH5KvdARM",
        "outputId": "f5b2c7ac-a6d2-443b-a28e-59e1b896c525"
      },
      "execution_count": 46,
      "outputs": [
        {
          "output_type": "execute_result",
          "data": {
            "text/plain": [
              "Text(0.5, 1.0, 'mileage distribution')"
            ]
          },
          "metadata": {},
          "execution_count": 46
        },
        {
          "output_type": "display_data",
          "data": {
            "text/plain": [
              "<Figure size 864x648 with 1 Axes>"
            ],
            "image/png": "[encoded data removed]"
          },
          "metadata": {}
        }
      ]
    },
    {
      "cell_type": "code",
      "source": [
        "plt.figure(figsize=(12, 6))\n",
        "sns.boxplot(data['registration_year'], color='royalblue')"
      ],
      "metadata": {
        "colab": {
          "base_uri": "https://localhost:8080/",
          "height": 411
        },
        "id": "iYY0RdawiND5",
        "outputId": "8ad6a018-bd41-43bd-855f-e3ccde4029df"
      },
      "execution_count": 47,
      "outputs": [
        {
          "output_type": "execute_result",
          "data": {
            "text/plain": [
              "<matplotlib.axes._subplots.AxesSubplot at 0x7f8fc20d7350>"
            ]
          },
          "metadata": {},
          "execution_count": 47
        },
        {
          "output_type": "display_data",
          "data": {
            "text/plain": [
              "<Figure size 864x432 with 1 Axes>"
            ],
            "image/png": "[encoded data removed]"
          },
          "metadata": {}
        }
      ]
    },
    {
      "cell_type": "markdown",
      "source": [
        "В колонке registration_year присуствуют выбросы удалим их."
      ],
      "metadata": {
        "id": "WzPhuPtnn40s"
      }
    },
    {
      "cell_type": "code",
      "source": [
        "data = data[data['registration_year'] > 1986]"
      ],
      "metadata": {
        "id": "u329wJzvmV3B"
      },
      "execution_count": 48,
      "outputs": []
    },
    {
      "cell_type": "code",
      "source": [
        "data['gearbox'].value_counts().plot(kind='bar', title='gearbox distribution', xlabel='classes', \n",
        "                                     ylabel='quantity', rot=1, color='orange', alpha =0.9, figsize=(12,9))"
      ],
      "metadata": {
        "colab": {
          "base_uri": "https://localhost:8080/",
          "height": 590
        },
        "id": "O4t_TjNiqmb3",
        "outputId": "b20229fd-45b1-41f0-dc35-771442f98968"
      },
      "execution_count": 49,
      "outputs": [
        {
          "output_type": "execute_result",
          "data": {
            "text/plain": [
              "<matplotlib.axes._subplots.AxesSubplot at 0x7f8fc1f9bf10>"
            ]
          },
          "metadata": {},
          "execution_count": 49
        },
        {
          "output_type": "display_data",
          "data": {
            "text/plain": [
              "<Figure size 864x648 with 1 Axes>"
            ],
            "image/png": "[encoded data removed]"
          },
          "metadata": {}
        }
      ]
    },
    {
      "cell_type": "code",
      "source": [
        "plt.figure(figsize=(12, 9))\n",
        "sns.histplot(data['power'], bins=25,color='royalblue')\n",
        "plt.title('horsepower distribution')"
      ],
      "metadata": {
        "colab": {
          "base_uri": "https://localhost:8080/",
          "height": 590
        },
        "id": "jcMQOhzbs9Dy",
        "outputId": "d3546bc3-a200-44e6-dc0d-8935fa258ab2"
      },
      "execution_count": 50,
      "outputs": [
        {
          "output_type": "execute_result",
          "data": {
            "text/plain": [
              "Text(0.5, 1.0, 'horsepower distribution')"
            ]
          },
          "metadata": {},
          "execution_count": 50
        },
        {
          "output_type": "display_data",
          "data": {
            "text/plain": [
              "<Figure size 864x648 with 1 Axes>"
            ],
            "image/png": "[encoded data removed]"
          },
          "metadata": {}
        }
      ]
    },
    {
      "cell_type": "code",
      "source": [
        "plt.figure(figsize=(18, 6))\n",
        "sns.boxplot(data['power'], color='royalblue')"
      ],
      "metadata": {
        "colab": {
          "base_uri": "https://localhost:8080/",
          "height": 411
        },
        "id": "e-6YwbS8u1Sd",
        "outputId": "e5091237-ee18-4231-96ce-18f3f2621c66"
      },
      "execution_count": 51,
      "outputs": [
        {
          "output_type": "execute_result",
          "data": {
            "text/plain": [
              "<matplotlib.axes._subplots.AxesSubplot at 0x7f8fc1fcb610>"
            ]
          },
          "metadata": {},
          "execution_count": 51
        },
        {
          "output_type": "display_data",
          "data": {
            "text/plain": [
              "<Figure size 1296x432 with 1 Axes>"
            ],
            "image/png": "[encoded data removed]"
          },
          "metadata": {}
        }
      ]
    },
    {
      "cell_type": "markdown",
      "source": [
        "Удалим все строки с лошадиными силами больше 400."
      ],
      "metadata": {
        "id": "jIi0UQCJvYnS"
      }
    },
    {
      "cell_type": "markdown",
      "source": [
        "Также сложно себе представить машины с <30 лошадиных сил. Поэтому эти строки тоже удалим."
      ],
      "metadata": {
        "id": "7b-MAqwZwfVp"
      }
    },
    {
      "cell_type": "code",
      "source": [
        "data = data[(data['power'] <= 400) & (data['power'] >= 30)]"
      ],
      "metadata": {
        "id": "m4OrMkyguqDZ"
      },
      "execution_count": 52,
      "outputs": []
    },
    {
      "cell_type": "code",
      "source": [
        "data['vehicle_type'].value_counts().plot(kind='bar', title='vehicle_type distribution', xlabel='classes', \n",
        "                                     ylabel='quantity', rot=1, color='royalblue', alpha =0.9, figsize=(12,9))"
      ],
      "metadata": {
        "colab": {
          "base_uri": "https://localhost:8080/",
          "height": 591
        },
        "id": "TCl4J5OyyCGM",
        "outputId": "92cc1e68-2ba4-487f-aad5-1c5913b2a3d2"
      },
      "execution_count": 53,
      "outputs": [
        {
          "output_type": "execute_result",
          "data": {
            "text/plain": [
              "<matplotlib.axes._subplots.AxesSubplot at 0x7f8fc1e1ed90>"
            ]
          },
          "metadata": {},
          "execution_count": 53
        },
        {
          "output_type": "display_data",
          "data": {
            "text/plain": [
              "<Figure size 864x648 with 1 Axes>"
            ],
            "image/png": "[encoded data removed]"
          },
          "metadata": {}
        }
      ]
    },
    {
      "cell_type": "code",
      "source": [
        "data['model'].value_counts()[:10].plot(kind='bar', title='top-10 models', xlabel='models', \n",
        "                                     ylabel='quantity', rot=1, color='royalblue', alpha =0.9, figsize=(12,9))"
      ],
      "metadata": {
        "colab": {
          "base_uri": "https://localhost:8080/",
          "height": 591
        },
        "id": "856euq7_yUsK",
        "outputId": "9b4cbf29-592c-4e08-c230-170f309dce85"
      },
      "execution_count": 54,
      "outputs": [
        {
          "output_type": "execute_result",
          "data": {
            "text/plain": [
              "<matplotlib.axes._subplots.AxesSubplot at 0x7f8fc1d45550>"
            ]
          },
          "metadata": {},
          "execution_count": 54
        },
        {
          "output_type": "display_data",
          "data": {
            "text/plain": [
              "<Figure size 864x648 with 1 Axes>"
            ],
            "image/png": "[encoded data removed]"
          },
          "metadata": {}
        }
      ]
    },
    {
      "cell_type": "code",
      "source": [
        "data['registration_month'].value_counts().plot(kind='bar', title='months distribution', xlabel='months', \n",
        "                                     ylabel='quantity', rot=1, color='royalblue', alpha =0.9, figsize=(12,9))"
      ],
      "metadata": {
        "colab": {
          "base_uri": "https://localhost:8080/",
          "height": 590
        },
        "id": "u4uozd3cy2em",
        "outputId": "56a79114-b381-4876-e851-62f8e940b7ad"
      },
      "execution_count": 55,
      "outputs": [
        {
          "output_type": "execute_result",
          "data": {
            "text/plain": [
              "<matplotlib.axes._subplots.AxesSubplot at 0x7f8fc1cad210>"
            ]
          },
          "metadata": {},
          "execution_count": 55
        },
        {
          "output_type": "display_data",
          "data": {
            "text/plain": [
              "<Figure size 864x648 with 1 Axes>"
            ],
            "image/png": "[encoded data removed]"
          },
          "metadata": {}
        }
      ]
    },
    {
      "cell_type": "markdown",
      "source": [
        "Самый частый месяц регистрации автомобиля - март."
      ],
      "metadata": {
        "id": "Pkl1Nf43zISf"
      }
    },
    {
      "cell_type": "code",
      "source": [
        "data['fuel_type'].value_counts().plot(kind='bar', title='fuel_type distribution', xlabel='classes', \n",
        "                                     ylabel='quantity', rot=1, color='orange', alpha =0.9, figsize=(12,9))"
      ],
      "metadata": {
        "colab": {
          "base_uri": "https://localhost:8080/",
          "height": 591
        },
        "id": "mud3Z7xAzPHy",
        "outputId": "5d496ed3-9fd6-4117-cd1a-4ccc84a0ea66"
      },
      "execution_count": 56,
      "outputs": [
        {
          "output_type": "execute_result",
          "data": {
            "text/plain": [
              "<matplotlib.axes._subplots.AxesSubplot at 0x7f8fc1bf4d50>"
            ]
          },
          "metadata": {},
          "execution_count": 56
        },
        {
          "output_type": "display_data",
          "data": {
            "text/plain": [
              "<Figure size 864x648 with 1 Axes>"
            ],
            "image/png": "[encoded data removed]"
          },
          "metadata": {}
        }
      ]
    },
    {
      "cell_type": "code",
      "source": [
        "data['brand'].value_counts()[:10].plot(kind='bar', title='top-10 brands', xlabel='brands', \n",
        "                                     ylabel='quantity', rot=1, color='royalblue', alpha =0.9, figsize=(12,9))"
      ],
      "metadata": {
        "colab": {
          "base_uri": "https://localhost:8080/",
          "height": 592
        },
        "id": "Mmn--oevzoUU",
        "outputId": "ef40c238-d687-413f-c95f-aa4ccb59bbc2"
      },
      "execution_count": 57,
      "outputs": [
        {
          "output_type": "execute_result",
          "data": {
            "text/plain": [
              "<matplotlib.axes._subplots.AxesSubplot at 0x7f8fc1b72350>"
            ]
          },
          "metadata": {},
          "execution_count": 57
        },
        {
          "output_type": "display_data",
          "data": {
            "text/plain": [
              "<Figure size 864x648 with 1 Axes>"
            ],
            "image/png": "[encoded data removed]"
          },
          "metadata": {}
        }
      ]
    },
    {
      "cell_type": "code",
      "source": [
        "data['is_repaired'].value_counts().plot(kind='bar', title='is_repaired distribution', xlabel='classes', \n",
        "                                     ylabel='quantity', rot=1, color='orange', alpha =0.9, figsize=(12,9))"
      ],
      "metadata": {
        "colab": {
          "base_uri": "https://localhost:8080/",
          "height": 591
        },
        "id": "I1qKvQcU0Qte",
        "outputId": "8fba6d76-342f-4d60-d467-9b05a8ed559b"
      },
      "execution_count": 58,
      "outputs": [
        {
          "output_type": "execute_result",
          "data": {
            "text/plain": [
              "<matplotlib.axes._subplots.AxesSubplot at 0x7f8fc1b053d0>"
            ]
          },
          "metadata": {},
          "execution_count": 58
        },
        {
          "output_type": "display_data",
          "data": {
            "text/plain": [
              "<Figure size 864x648 with 1 Axes>"
            ],
            "image/png": "[encoded data removed]"
          },
          "metadata": {}
        }
      ]
    },
    {
      "cell_type": "markdown",
      "source": [
        "Применим технику label encoding для категориальных колонок."
      ],
      "metadata": {
        "id": "JMjjz40eBYCI"
      }
    },
    {
      "cell_type": "code",
      "source": [
        "cat_cols = ['vehicle_type', 'gearbox', 'model', 'fuel_type', 'brand', 'is_repaired']\n",
        "enc = OrdinalEncoder()\n",
        "data[cat_cols] = enc.fit_transform(data[cat_cols])"
      ],
      "metadata": {
        "id": "lqvN0rSGBfD8"
      },
      "execution_count": 59,
      "outputs": []
    },
    {
      "cell_type": "markdown",
      "source": [
        "Теперь посмотрим на корреляции."
      ],
      "metadata": {
        "id": "TK1VX3LbChYO"
      }
    },
    {
      "cell_type": "code",
      "source": [
        "plt.figure(figsize=(15, 10))\n",
        "sns.heatmap(data.corr(), annot=True, fmt=\".1f\")"
      ],
      "metadata": {
        "colab": {
          "base_uri": "https://localhost:8080/",
          "height": 711
        },
        "id": "V_QTa0_N3ydj",
        "outputId": "ad8a70e5-8326-456d-9f80-3175c78b0fe2"
      },
      "execution_count": 60,
      "outputs": [
        {
          "output_type": "execute_result",
          "data": {
            "text/plain": [
              "<matplotlib.axes._subplots.AxesSubplot at 0x7f8fc1a65550>"
            ]
          },
          "metadata": {},
          "execution_count": 60
        },
        {
          "output_type": "display_data",
          "data": {
            "text/plain": [
              "<Figure size 1080x720 with 2 Axes>"
            ],
            "image/png": "[encoded data removed]"
          },
          "metadata": {}
        }
      ]
    },
    {
      "cell_type": "markdown",
      "source": [
        "Есть значимая корреляция между кол-вом лошадиных сил и ценой автомобиля, между ценой автомобиля и годом регистрации, между брендом и моделью."
      ],
      "metadata": {
        "id": "OxFwenHBDTVk"
      }
    },
    {
      "cell_type": "markdown",
      "source": [
        "# **Modeling**"
      ],
      "metadata": {
        "id": "FeiPPrBvfksy"
      }
    },
    {
      "cell_type": "markdown",
      "source": [
        "Сначала разделим выборку в пропорции 1:4. 4 части будет использовано для кросс-валидации, а 1 часть - для теста."
      ],
      "metadata": {
        "id": "lmB37bIDyjqW"
      }
    },
    {
      "cell_type": "code",
      "source": [
        "features = data.drop('price', axis=1)\n",
        "target = data['price']"
      ],
      "metadata": {
        "id": "tAQPULvnfmbP"
      },
      "execution_count": 61,
      "outputs": []
    },
    {
      "cell_type": "code",
      "source": [
        "x_train, x_test, y_train, y_test = train_test_split(features, target, train_size=0.8, random_state=67)"
      ],
      "metadata": {
        "id": "umyERXtgxVEb"
      },
      "execution_count": 62,
      "outputs": []
    },
    {
      "cell_type": "markdown",
      "source": [
        "**baseline**"
      ],
      "metadata": {
        "id": "a8-5bSzvgT0D"
      }
    },
    {
      "cell_type": "markdown",
      "source": [
        "В качестве бейзлайна возьмем случайный лес."
      ],
      "metadata": {
        "id": "edAjsg6EHnyg"
      }
    },
    {
      "cell_type": "code",
      "source": [
        "model = RandomForestRegressor(random_state=67)"
      ],
      "metadata": {
        "id": "ke2XbOkJgWIZ"
      },
      "execution_count": 63,
      "outputs": []
    },
    {
      "cell_type": "code",
      "source": [
        "%%time\n",
        "scores = cross_val_score(model, x_train, y_train, cv=5, scoring='neg_root_mean_squared_error')"
      ],
      "metadata": {
        "colab": {
          "base_uri": "https://localhost:8080/"
        },
        "id": "YxpF0CJ3gcj_",
        "outputId": "ab19b96b-d690-4359-a81a-7816d0ed828b"
      },
      "execution_count": 64,
      "outputs": [
        {
          "output_type": "stream",
          "name": "stdout",
          "text": [
            "CPU times: user 5min 54s, sys: 2.26 s, total: 5min 56s\n",
            "Wall time: 6min 3s\n"
          ]
        }
      ]
    },
    {
      "cell_type": "code",
      "source": [
        "print(scores)\n",
        "print('avg nrmse:', round(sum(scores) / len(scores)))"
      ],
      "metadata": {
        "id": "MiCKEtNl45fI",
        "colab": {
          "base_uri": "https://localhost:8080/"
        },
        "outputId": "b5d7c113-b4a8-44c2-ed65-27407597325d"
      },
      "execution_count": 65,
      "outputs": [
        {
          "output_type": "stream",
          "name": "stdout",
          "text": [
            "[-1337.11965741 -1345.95191275 -1322.47240946 -1346.29009217\n",
            " -1324.42663484]\n",
            "avg nrmse: -1335\n"
          ]
        }
      ]
    },
    {
      "cell_type": "markdown",
      "source": [
        "Как мы видим модель довольно стабильна."
      ],
      "metadata": {
        "id": "evEB5C1UnMZS"
      }
    },
    {
      "cell_type": "markdown",
      "source": [
        "Так как нам важно не только качество предсказаний, а еще и скорость обучения и скорость предсказания, то протестируем две модели: lightgbm и xgboost."
      ],
      "metadata": {
        "id": "NQXSg3pBH1o2"
      }
    },
    {
      "cell_type": "markdown",
      "source": [
        "Нам важен баланс между качеством предсказаний и скоростью обучения. Очевидно, что модель lightgbm будет обучаться быстрее всех - это ее основаня фишка, но если у нее будет плохое качество, то придется пожертвовать скоростью обучения ради качества предсказания."
      ],
      "metadata": {
        "id": "KwQv1AqsIMiU"
      }
    },
    {
      "cell_type": "markdown",
      "source": [
        "Сначала посмотрим, как эти модели покажут себя в стоке, а потому уже займемся тюнингом гиперпараметров."
      ],
      "metadata": {
        "id": "aNn_D1GxI-j5"
      }
    },
    {
      "cell_type": "code",
      "source": [
        "model = LGBMRegressor(random_state=67)"
      ],
      "metadata": {
        "id": "TASLEnouni5n"
      },
      "execution_count": 66,
      "outputs": []
    },
    {
      "cell_type": "code",
      "source": [
        "%%time\n",
        "scores = cross_val_score(model, x_train, y_train, cv=5, scoring='neg_root_mean_squared_error')"
      ],
      "metadata": {
        "id": "1Bd5uBdZfJIM",
        "colab": {
          "base_uri": "https://localhost:8080/"
        },
        "outputId": "f9ffbb3a-01ff-4f9f-8f01-3e0447fd2ee1"
      },
      "execution_count": 67,
      "outputs": [
        {
          "output_type": "stream",
          "name": "stdout",
          "text": [
            "CPU times: user 15.3 s, sys: 399 ms, total: 15.7 s\n",
            "Wall time: 8.19 s\n"
          ]
        }
      ]
    },
    {
      "cell_type": "code",
      "source": [
        "print(scores)\n",
        "print('avg nrmse:', round(sum(scores) / len(scores)))"
      ],
      "metadata": {
        "id": "i9bd133IvBu_",
        "colab": {
          "base_uri": "https://localhost:8080/"
        },
        "outputId": "b32629df-68a6-4afa-caf4-e04e49e66623"
      },
      "execution_count": 68,
      "outputs": [
        {
          "output_type": "stream",
          "name": "stdout",
          "text": [
            "[-1423.81538082 -1439.9128359  -1422.1571096  -1438.78007507\n",
            " -1418.19520215]\n",
            "avg nrmse: -1429\n"
          ]
        }
      ]
    },
    {
      "cell_type": "code",
      "source": [
        "model = XGBRegressor(random_state=67, objective=\"reg:squarederror\")"
      ],
      "metadata": {
        "id": "NiCPODoS4DoH"
      },
      "execution_count": 69,
      "outputs": []
    },
    {
      "cell_type": "code",
      "source": [
        "%%time\n",
        "scores = cross_val_score(model, x_train, y_train, cv=5, scoring='neg_root_mean_squared_error')"
      ],
      "metadata": {
        "id": "QQHzaFcsfBen",
        "colab": {
          "base_uri": "https://localhost:8080/"
        },
        "outputId": "8cf63917-1070-4fcd-ee95-4e9b4e167609"
      },
      "execution_count": 70,
      "outputs": [
        {
          "output_type": "stream",
          "name": "stdout",
          "text": [
            "CPU times: user 36 s, sys: 355 ms, total: 36.3 s\n",
            "Wall time: 36.8 s\n"
          ]
        }
      ]
    },
    {
      "cell_type": "code",
      "source": [
        "print(scores)\n",
        "print('avg nrmse:', round(sum(scores) / len(scores)))"
      ],
      "metadata": {
        "id": "fEP2FRGw4JnB",
        "colab": {
          "base_uri": "https://localhost:8080/"
        },
        "outputId": "e78ec39d-3b29-40f2-e66b-1e889881a48a"
      },
      "execution_count": 71,
      "outputs": [
        {
          "output_type": "stream",
          "name": "stdout",
          "text": [
            "[-1568.01711533 -1583.38735484 -1576.90779617 -1598.24024394\n",
            " -1576.74530446]\n",
            "avg nrmse: -1581\n"
          ]
        }
      ]
    },
    {
      "cell_type": "markdown",
      "source": [
        "модель lgbm показала себя лучше модели xgboost как в качестве, так и в скорости обучения. Но это еще не показатель, так как модели тестировались в стоковом состоянии."
      ],
      "metadata": {
        "id": "bS4yQnxhJMzc"
      }
    },
    {
      "cell_type": "markdown",
      "source": [
        "Обе модели не дотягивают до нашего бейзлайна по качеству предсказаний."
      ],
      "metadata": {
        "id": "pS5CEEDnOW5P"
      }
    },
    {
      "cell_type": "markdown",
      "source": [
        "**Hyperparameter tuning**"
      ],
      "metadata": {
        "id": "XDNPR2bPOrzC"
      }
    },
    {
      "cell_type": "code",
      "source": [
        "params = {\n",
        "    'learning_rate': np.arange(0.05, 0.31, 0.05),\n",
        "    'max_depth': np.arange(3, 13, 1, dtype=int),\n",
        "    'min_child_weight': np.arange(1, 8, 1, dtype=int),\n",
        "    'colsample_bytree': np.arange(0.3, 0.8, 0.1),\n",
        "    'n_estimators': np.arange(100, 500, 25)\n",
        "}"
      ],
      "metadata": {
        "id": "ZR7uZSs5SpW-"
      },
      "execution_count": 72,
      "outputs": []
    },
    {
      "cell_type": "code",
      "source": [
        "model = XGBRegressor(random_state=67, objective=\"reg:squarederror\", tree_method='gpu_hist')\n",
        "rs_model = RandomizedSearchCV(model, param_distributions=params, \n",
        "                              scoring='neg_root_mean_squared_error', n_jobs=-1, cv=3, \n",
        "                              verbose=3, n_iter=20, random_state=67)\n",
        "rs_model.fit(x_train, y_train)\n",
        "rs_model.best_params_"
      ],
      "metadata": {
        "id": "7c_WvI9tS5f7",
        "colab": {
          "base_uri": "https://localhost:8080/"
        },
        "outputId": "d68a44b2-54db-424f-ef5c-7c3313b0042c"
      },
      "execution_count": 73,
      "outputs": [
        {
          "output_type": "stream",
          "name": "stdout",
          "text": [
            "Fitting 3 folds for each of 20 candidates, totalling 60 fits\n"
          ]
        },
        {
          "output_type": "execute_result",
          "data": {
            "text/plain": [
              "{'colsample_bytree': 0.4,\n",
              " 'learning_rate': 0.15000000000000002,\n",
              " 'max_depth': 12,\n",
              " 'min_child_weight': 3,\n",
              " 'n_estimators': 175}"
            ]
          },
          "metadata": {},
          "execution_count": 73
        }
      ]
    },
    {
      "cell_type": "code",
      "source": [
        "scores = cross_val_score(rs_model.best_estimator_, x_train, y_train, cv=5, scoring='neg_root_mean_squared_error')\n",
        "print(scores)\n",
        "print('avg nrmse:', round(sum(scores) / len(scores)))"
      ],
      "metadata": {
        "id": "AWgfJSLLeOoY",
        "colab": {
          "base_uri": "https://localhost:8080/"
        },
        "outputId": "01c8252d-22f1-4a1c-fa62-157b1c0bc3f3"
      },
      "execution_count": 74,
      "outputs": [
        {
          "output_type": "stream",
          "name": "stdout",
          "text": [
            "[-1307.11493775 -1328.48983147 -1310.82388313 -1324.88582686\n",
            " -1308.08813215]\n",
            "avg nrmse: -1316\n"
          ]
        }
      ]
    },
    {
      "cell_type": "code",
      "source": [
        "model = LGBMRegressor(random_state=67)\n",
        "rs_model = RandomizedSearchCV(model, param_distributions=params, \n",
        "                              scoring='neg_root_mean_squared_error', n_jobs=-1, cv=3, \n",
        "                              verbose=3, n_iter=20, random_state=67)\n",
        "rs_model.fit(x_train, y_train)\n",
        "rs_model.best_params_"
      ],
      "metadata": {
        "id": "RNqUhEtWd3At",
        "colab": {
          "base_uri": "https://localhost:8080/"
        },
        "outputId": "e9b729d0-bcdf-4ebf-b934-9e65b178fad0"
      },
      "execution_count": 75,
      "outputs": [
        {
          "output_type": "stream",
          "name": "stdout",
          "text": [
            "Fitting 3 folds for each of 20 candidates, totalling 60 fits\n"
          ]
        },
        {
          "output_type": "execute_result",
          "data": {
            "text/plain": [
              "{'colsample_bytree': 0.5,\n",
              " 'learning_rate': 0.3,\n",
              " 'max_depth': 12,\n",
              " 'min_child_weight': 1,\n",
              " 'n_estimators': 450}"
            ]
          },
          "metadata": {},
          "execution_count": 75
        }
      ]
    },
    {
      "cell_type": "code",
      "source": [
        "scores = cross_val_score(rs_model.best_estimator_, x_train, y_train, cv=5, scoring='neg_root_mean_squared_error')\n",
        "print(scores)\n",
        "print('avg nrmse:', round(sum(scores) / len(scores)))"
      ],
      "metadata": {
        "id": "CEpdWP-bgVNA",
        "colab": {
          "base_uri": "https://localhost:8080/"
        },
        "outputId": "e17e8837-e512-4c2b-c2af-febcc07da39f"
      },
      "execution_count": 76,
      "outputs": [
        {
          "output_type": "stream",
          "name": "stdout",
          "text": [
            "[-1348.3187449  -1362.73180128 -1340.66287527 -1361.79827479\n",
            " -1350.21493862]\n",
            "avg nrmse: -1353\n"
          ]
        }
      ]
    },
    {
      "cell_type": "markdown",
      "source": [
        "Результаты моделей улучшились."
      ],
      "metadata": {
        "id": "BsEdSqhLCa2m"
      }
    },
    {
      "cell_type": "markdown",
      "source": [
        "Так как результаты отличаются незначительно, а скорость обучения у lgbm значительно выше, то в качестве основной модели выберем именно lgbm."
      ],
      "metadata": {
        "id": "w4LrWFnQCjC_"
      }
    },
    {
      "cell_type": "markdown",
      "source": [
        "# **Testing**"
      ],
      "metadata": {
        "id": "TugmapKdrkpi"
      }
    },
    {
      "cell_type": "markdown",
      "source": [
        "Теперь проверим модель lgbm на тестовой выборке."
      ],
      "metadata": {
        "id": "IfWcqTX3CfJv"
      }
    },
    {
      "cell_type": "code",
      "source": [
        "model = rs_model.best_estimator_\n",
        "model.fit(x_train, y_train)\n",
        "print('rmse: ',mean_squared_error(y_test, model.predict(x_test)) ** 0.5)"
      ],
      "metadata": {
        "id": "IULiUdi9riSL",
        "colab": {
          "base_uri": "https://localhost:8080/"
        },
        "outputId": "d15dad25-dc9c-46c4-b92e-bf32356536a0"
      },
      "execution_count": 77,
      "outputs": [
        {
          "output_type": "stream",
          "name": "stdout",
          "text": [
            "rmse:  1356.0148951731537\n"
          ]
        }
      ]
    },
    {
      "cell_type": "markdown",
      "source": [
        "Результат почти такой же как и на кросс-валидации. Это говорит о том, что модель хорошо обучилась и никакого недообучения или переобучения нет."
      ],
      "metadata": {
        "id": "SvHTKexrC3Gz"
      }
    },
    {
      "cell_type": "markdown",
      "source": [
        "# **Results**"
      ],
      "metadata": {
        "id": "L547TSgVst79"
      }
    },
    {
      "cell_type": "markdown",
      "source": [
        "Теперь приступим к анализу модели."
      ],
      "metadata": {
        "id": "J0FgNuorDJRB"
      }
    },
    {
      "cell_type": "markdown",
      "source": [
        "Для того, чтобы интерпритировать модель максимально четко - обучим ее на полных данных. Для этого просто соединим train и test."
      ],
      "metadata": {
        "id": "wJDTjhBMDM0p"
      }
    },
    {
      "cell_type": "code",
      "source": [
        "x_train_and_test = pd.concat([x_train, x_test])\n",
        "y_train_and_test = pd.concat([y_train, y_test])"
      ],
      "metadata": {
        "id": "fTdTguy5stSm"
      },
      "execution_count": 78,
      "outputs": []
    },
    {
      "cell_type": "markdown",
      "source": [
        "Обучим модель на полных данных."
      ],
      "metadata": {
        "id": "rwSjgwZKDaVf"
      }
    },
    {
      "cell_type": "code",
      "source": [
        "model.fit(x_train_and_test, y_train_and_test)"
      ],
      "metadata": {
        "id": "u-RftM3Os_iD",
        "colab": {
          "base_uri": "https://localhost:8080/"
        },
        "outputId": "33d7fdc1-cede-4415-f7e5-9e2e8a28f395"
      },
      "execution_count": 79,
      "outputs": [
        {
          "output_type": "execute_result",
          "data": {
            "text/plain": [
              "LGBMRegressor(colsample_bytree=0.5, learning_rate=0.3, max_depth=12,\n",
              "              min_child_weight=1, n_estimators=450, random_state=67)"
            ]
          },
          "metadata": {},
          "execution_count": 79
        }
      ]
    },
    {
      "cell_type": "markdown",
      "source": [
        "Для интерпритации модели будем использовать библиотеку shap."
      ],
      "metadata": {
        "id": "OKtFfyGVDc6g"
      }
    },
    {
      "cell_type": "code",
      "source": [
        "explainer = shap.TreeExplainer(model)\n",
        "shap_values = explainer.shap_values(x_train_and_test)"
      ],
      "metadata": {
        "id": "rkstMkMftDeW"
      },
      "execution_count": 80,
      "outputs": []
    },
    {
      "cell_type": "code",
      "source": [
        "shap.summary_plot(shap_values, x_train_and_test)"
      ],
      "metadata": {
        "id": "PuMou0ITtFmI",
        "colab": {
          "base_uri": "https://localhost:8080/",
          "height": 392
        },
        "outputId": "c8844535-07e2-482c-e780-b4ac533d369b"
      },
      "execution_count": 81,
      "outputs": [
        {
          "output_type": "display_data",
          "data": {
            "text/plain": [
              "<Figure size 576x424.8 with 2 Axes>"
            ],
            "image/png": "[encoded data removed]"
          },
          "metadata": {}
        }
      ]
    },
    {
      "cell_type": "markdown",
      "source": [
        "По данному графику видно, что модель добавляет цену машине : при высоких значениях года регистрации, при высоких значениях лошадиных сил, при низких значениях пробега и когда машина не ремонтировалась. "
      ],
      "metadata": {
        "id": "yZc8OfrEDtR8"
      }
    },
    {
      "cell_type": "markdown",
      "source": [
        "Теперь посмотрим значимость фичей для модели."
      ],
      "metadata": {
        "id": "BYKPdn-tEcAl"
      }
    },
    {
      "cell_type": "code",
      "source": [
        "shap.summary_plot(shap_values, x_train_and_test, plot_type=\"bar\")"
      ],
      "metadata": {
        "id": "aWuVLmOntHQZ",
        "colab": {
          "base_uri": "https://localhost:8080/",
          "height": 388
        },
        "outputId": "dbe9e7a1-d3c5-41eb-8df8-60c05683f2f3"
      },
      "execution_count": 82,
      "outputs": [
        {
          "output_type": "display_data",
          "data": {
            "text/plain": [
              "<Figure size 576x424.8 with 1 Axes>"
            ],
            "image/png": "[encoded data removed]"
          },
          "metadata": {}
        }
      ]
    },
    {
      "cell_type": "markdown",
      "source": [
        "На первом месте по значимости у нас - год регистрации автомобиля, на втором - лошадиные силы и на третьем - бренд автомобиля."
      ],
      "metadata": {
        "id": "I9-8ZwI-EfiI"
      }
    },
    {
      "cell_type": "markdown",
      "source": [
        "По важности фичей мы видим, что колонки postal_code и registration_month практически не значимы для модели, поэтому, для того, чтобы модель работала еще быстрее удалим эти фичи и проверим RMSE модели."
      ],
      "metadata": {
        "id": "k5gkzInd3ug0"
      }
    },
    {
      "cell_type": "code",
      "source": [
        "x_train_and_test = x_train_and_test.drop(['postal_code', 'registration_month'], axis=1)"
      ],
      "metadata": {
        "id": "70MSLkGy3x1-"
      },
      "execution_count": 83,
      "outputs": []
    },
    {
      "cell_type": "code",
      "source": [
        "model.fit(x_train_and_test, y_train_and_test)\n",
        "print('rmse: ', mean_squared_error(y_train_and_test, model.predict(x_train_and_test)) ** 0.5)"
      ],
      "metadata": {
        "id": "8t9ZMiJW3zp5",
        "colab": {
          "base_uri": "https://localhost:8080/"
        },
        "outputId": "565bda52-d2ca-410f-f283-8aa80e73442f"
      },
      "execution_count": 84,
      "outputs": [
        {
          "output_type": "stream",
          "name": "stdout",
          "text": [
            "rmse:  1270.4154432066555\n"
          ]
        }
      ]
    },
    {
      "cell_type": "code",
      "source": [
        "data['price'].std()"
      ],
      "metadata": {
        "colab": {
          "base_uri": "https://localhost:8080/"
        },
        "id": "mifgMfBooxno",
        "outputId": "5f652e55-a9e1-4088-96ae-e9f68f524fa8"
      },
      "execution_count": 85,
      "outputs": [
        {
          "output_type": "execute_result",
          "data": {
            "text/plain": [
              "3788.2609126457805"
            ]
          },
          "metadata": {},
          "execution_count": 85
        }
      ]
    },
    {
      "cell_type": "markdown",
      "source": [
        "Как мы видим RMSE в три раза меньше, чем std таргета."
      ],
      "metadata": {
        "id": "GwdL1s0gqTnC"
      }
    },
    {
      "cell_type": "markdown",
      "source": [
        "# **Conclusion**"
      ],
      "metadata": {
        "id": "MgexNrCu2YKP"
      }
    },
    {
      "cell_type": "markdown",
      "source": [
        "<b> В итоге лучшей моделью оказалась модель lgbm. Она показала практически такие же результаты, как модель xgboost, при этом скорость обучения у модели lgbm значительно выше, чем у модели xgboost. Удалось достичь значения 1270 по метрике RMSE. Было проанализировано: значимость фичей для модели и при каких значениях фичей модель принимала решение повысить цену на автомобиль.</b>"
      ],
      "metadata": {
        "id": "1ZWPMFSu3Jfj"
      }
    }
  ]
}