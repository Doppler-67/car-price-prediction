{
  "nbformat": 4,
  "nbformat_minor": 0,
  "metadata": {
    "colab": {
      "name": "autos.ipynb",
      "provenance": [],
      "collapsed_sections": [],
      "mount_file_id": "19Pf-cYig_fZof15givJ6rXMRUDx4eLJw",
      "authorship_tag": "ABX9TyPTRSwSVD+HuZkqvs+IaKz4",
      "include_colab_link": true
    },
    "kernelspec": {
      "name": "python3",
      "display_name": "Python 3"
    },
    "language_info": {
      "name": "python"
    },
    "accelerator": "GPU"
  },
  "cells": [
    {
      "cell_type": "markdown",
      "metadata": {
        "id": "view-in-github",
        "colab_type": "text"
      },
      "source": [
        "<a href=\"https://colab.research.google.com/github/Doppler-67/car-price-prediction/blob/main/autos.ipynb\" target=\"_parent\"><img src=\"https://colab.research.google.com/assets/colab-badge.svg\" alt=\"Open In Colab\"/></a>"
      ]
    },
    {
      "cell_type": "markdown",
      "source": [
        "**Цель проекта:**\n",
        "\n",
        "Нужно построить модель для определения стоимости автомобиля.\n",
        "\n",
        "**Важные критерии модели:**\n",
        "\n",
        "1.   качество предсказания.\n",
        "2.   скорость предсказания.\n",
        "3.   время обучения.\n",
        "\n",
        "**Описание данных:**\n",
        "\n",
        "Доступны технические характеристики, комплектации и цены автомобилей. "
      ],
      "metadata": {
        "id": "YmGBhk_3sUgI"
      }
    },
    {
      "cell_type": "markdown",
      "source": [
        "⭕ Более подробная информация находится в README файле."
      ],
      "metadata": {
        "id": "t5FqBJn4sS9-"
      }
    },
    {
      "cell_type": "markdown",
      "source": [
        "# **Importing libraries**"
      ],
      "metadata": {
        "id": "9pIIqBaeHyyf"
      }
    },
    {
      "cell_type": "code",
      "execution_count": 1,
      "metadata": {
        "id": "i8q2RzZU94yn"
      },
      "outputs": [],
      "source": [
        "import pandas as pd\n",
        "import numpy as np\n",
        "import seaborn as sns\n",
        "import matplotlib.pyplot as plt\n",
        "import shap\n",
        "\n",
        "from sklearn.preprocessing import OrdinalEncoder\n",
        "from sklearn.model_selection import train_test_split, cross_val_score, RandomizedSearchCV\n",
        "from sklearn.ensemble import RandomForestRegressor\n",
        "from sklearn.metrics import mean_squared_error\n",
        "\n",
        "from lightgbm import LGBMRegressor\n",
        "from xgboost import XGBRegressor\n",
        "\n",
        "import warnings\n",
        "warnings.filterwarnings('ignore')"
      ]
    },
    {
      "cell_type": "code",
      "source": [
        "sns.set()"
      ],
      "metadata": {
        "id": "-H7wzcH_HmPk"
      },
      "execution_count": 2,
      "outputs": []
    },
    {
      "cell_type": "markdown",
      "source": [
        "# **Data understanding**"
      ],
      "metadata": {
        "id": "Vtpd5_KrIRJB"
      }
    },
    {
      "cell_type": "markdown",
      "source": [
        "**План исследования:**\n",
        "\n",
        "\n",
        "1.   Загрузить данные.\n",
        "2.   Провести предобработку данных.\n",
        "3.   Провести исследовательский анализ данных.\n",
        "4.   Протестировать различные модели.\n",
        "5.   Подобрать оптимальные параметры для моделей.\n",
        "6.   Выбрать лучшую модель и проверить ее на тестовых данных.\n",
        "7.   Провести интерпретацию лучшей модели.\n",
        "8.   Сделать вывод о результатах.\n",
        "\n"
      ],
      "metadata": {
        "id": "00kvPi9jKKnt"
      }
    },
    {
      "cell_type": "code",
      "source": [
        "data = pd.read_csv('/content/drive/MyDrive/autos_ds_project/autos.csv')"
      ],
      "metadata": {
        "id": "MSQLXR93HnCr"
      },
      "execution_count": 3,
      "outputs": []
    },
    {
      "cell_type": "code",
      "source": [
        "data.head()"
      ],
      "metadata": {
        "id": "ew3FTjp6HqFm",
        "colab": {
          "base_uri": "https://localhost:8080/",
          "height": 206
        },
        "outputId": "0740c91e-0cad-4e4a-ad67-7fde73ad5ea2"
      },
      "execution_count": 4,
      "outputs": [
        {
          "output_type": "execute_result",
          "data": {
            "text/plain": [
              "           DateCrawled  Price VehicleType  RegistrationYear Gearbox  Power  \\\n",
              "0  2016-03-24 11:52:17    480         NaN              1993  manual      0   \n",
              "1  2016-03-24 10:58:45  18300       coupe              2011  manual    190   \n",
              "2  2016-03-14 12:52:21   9800         suv              2004    auto    163   \n",
              "3  2016-03-17 16:54:04   1500       small              2001  manual     75   \n",
              "4  2016-03-31 17:25:20   3600       small              2008  manual     69   \n",
              "\n",
              "   Model  Kilometer  RegistrationMonth  FuelType       Brand NotRepaired  \\\n",
              "0   golf     150000                  0    petrol  volkswagen         NaN   \n",
              "1    NaN     125000                  5  gasoline        audi         yes   \n",
              "2  grand     125000                  8  gasoline        jeep         NaN   \n",
              "3   golf     150000                  6    petrol  volkswagen          no   \n",
              "4  fabia      90000                  7  gasoline       skoda          no   \n",
              "\n",
              "           DateCreated  NumberOfPictures  PostalCode             LastSeen  \n",
              "0  2016-03-24 00:00:00                 0       70435  2016-04-07 03:16:57  \n",
              "1  2016-03-24 00:00:00                 0       66954  2016-04-07 01:46:50  \n",
              "2  2016-03-14 00:00:00                 0       90480  2016-04-05 12:47:46  \n",
              "3  2016-03-17 00:00:00                 0       91074  2016-03-17 17:40:17  \n",
              "4  2016-03-31 00:00:00                 0       60437  2016-04-06 10:17:21  "
            ],
            "text/html": [
              "\n",
              "  <div id=\"df-f5a2394a-0d07-4a68-9680-e12ea10a5aa7\">\n",
              "    <div class=\"colab-df-container\">\n",
              "      <div>\n",
              "<style scoped>\n",
              "    .dataframe tbody tr th:only-of-type {\n",
              "        vertical-align: middle;\n",
              "    }\n",
              "\n",
              "    .dataframe tbody tr th {\n",
              "        vertical-align: top;\n",
              "    }\n",
              "\n",
              "    .dataframe thead th {\n",
              "        text-align: right;\n",
              "    }\n",
              "</style>\n",
              "<table border=\"1\" class=\"dataframe\">\n",
              "  <thead>\n",
              "    <tr style=\"text-align: right;\">\n",
              "      <th></th>\n",
              "      <th>DateCrawled</th>\n",
              "      <th>Price</th>\n",
              "      <th>VehicleType</th>\n",
              "      <th>RegistrationYear</th>\n",
              "      <th>Gearbox</th>\n",
              "      <th>Power</th>\n",
              "      <th>Model</th>\n",
              "      <th>Kilometer</th>\n",
              "      <th>RegistrationMonth</th>\n",
              "      <th>FuelType</th>\n",
              "      <th>Brand</th>\n",
              "      <th>NotRepaired</th>\n",
              "      <th>DateCreated</th>\n",
              "      <th>NumberOfPictures</th>\n",
              "      <th>PostalCode</th>\n",
              "      <th>LastSeen</th>\n",
              "    </tr>\n",
              "  </thead>\n",
              "  <tbody>\n",
              "    <tr>\n",
              "      <th>0</th>\n",
              "      <td>2016-03-24 11:52:17</td>\n",
              "      <td>480</td>\n",
              "      <td>NaN</td>\n",
              "      <td>1993</td>\n",
              "      <td>manual</td>\n",
              "      <td>0</td>\n",
              "      <td>golf</td>\n",
              "      <td>150000</td>\n",
              "      <td>0</td>\n",
              "      <td>petrol</td>\n",
              "      <td>volkswagen</td>\n",
              "      <td>NaN</td>\n",
              "      <td>2016-03-24 00:00:00</td>\n",
              "      <td>0</td>\n",
              "      <td>70435</td>\n",
              "      <td>2016-04-07 03:16:57</td>\n",
              "    </tr>\n",
              "    <tr>\n",
              "      <th>1</th>\n",
              "      <td>2016-03-24 10:58:45</td>\n",
              "      <td>18300</td>\n",
              "      <td>coupe</td>\n",
              "      <td>2011</td>\n",
              "      <td>manual</td>\n",
              "      <td>190</td>\n",
              "      <td>NaN</td>\n",
              "      <td>125000</td>\n",
              "      <td>5</td>\n",
              "      <td>gasoline</td>\n",
              "      <td>audi</td>\n",
              "      <td>yes</td>\n",
              "      <td>2016-03-24 00:00:00</td>\n",
              "      <td>0</td>\n",
              "      <td>66954</td>\n",
              "      <td>2016-04-07 01:46:50</td>\n",
              "    </tr>\n",
              "    <tr>\n",
              "      <th>2</th>\n",
              "      <td>2016-03-14 12:52:21</td>\n",
              "      <td>9800</td>\n",
              "      <td>suv</td>\n",
              "      <td>2004</td>\n",
              "      <td>auto</td>\n",
              "      <td>163</td>\n",
              "      <td>grand</td>\n",
              "      <td>125000</td>\n",
              "      <td>8</td>\n",
              "      <td>gasoline</td>\n",
              "      <td>jeep</td>\n",
              "      <td>NaN</td>\n",
              "      <td>2016-03-14 00:00:00</td>\n",
              "      <td>0</td>\n",
              "      <td>90480</td>\n",
              "      <td>2016-04-05 12:47:46</td>\n",
              "    </tr>\n",
              "    <tr>\n",
              "      <th>3</th>\n",
              "      <td>2016-03-17 16:54:04</td>\n",
              "      <td>1500</td>\n",
              "      <td>small</td>\n",
              "      <td>2001</td>\n",
              "      <td>manual</td>\n",
              "      <td>75</td>\n",
              "      <td>golf</td>\n",
              "      <td>150000</td>\n",
              "      <td>6</td>\n",
              "      <td>petrol</td>\n",
              "      <td>volkswagen</td>\n",
              "      <td>no</td>\n",
              "      <td>2016-03-17 00:00:00</td>\n",
              "      <td>0</td>\n",
              "      <td>91074</td>\n",
              "      <td>2016-03-17 17:40:17</td>\n",
              "    </tr>\n",
              "    <tr>\n",
              "      <th>4</th>\n",
              "      <td>2016-03-31 17:25:20</td>\n",
              "      <td>3600</td>\n",
              "      <td>small</td>\n",
              "      <td>2008</td>\n",
              "      <td>manual</td>\n",
              "      <td>69</td>\n",
              "      <td>fabia</td>\n",
              "      <td>90000</td>\n",
              "      <td>7</td>\n",
              "      <td>gasoline</td>\n",
              "      <td>skoda</td>\n",
              "      <td>no</td>\n",
              "      <td>2016-03-31 00:00:00</td>\n",
              "      <td>0</td>\n",
              "      <td>60437</td>\n",
              "      <td>2016-04-06 10:17:21</td>\n",
              "    </tr>\n",
              "  </tbody>\n",
              "</table>\n",
              "</div>\n",
              "      <button class=\"colab-df-convert\" onclick=\"convertToInteractive('df-f5a2394a-0d07-4a68-9680-e12ea10a5aa7')\"\n",
              "              title=\"Convert this dataframe to an interactive table.\"\n",
              "              style=\"display:none;\">\n",
              "        \n",
              "  <svg xmlns=\"http://www.w3.org/2000/svg\" height=\"24px\"viewBox=\"0 0 24 24\"\n",
              "       width=\"24px\">\n",
              "    <path d=\"M0 0h24v24H0V0z\" fill=\"none\"/>\n",
              "    <path d=\"M18.56 5.44l.94 2.06.94-2.06 2.06-.94-2.06-.94-.94-2.06-.94 2.06-2.06.94zm-11 1L8.5 8.5l.94-2.06 2.06-.94-2.06-.94L8.5 2.5l-.94 2.06-2.06.94zm10 10l.94 2.06.94-2.06 2.06-.94-2.06-.94-.94-2.06-.94 2.06-2.06.94z\"/><path d=\"M17.41 7.96l-1.37-1.37c-.4-.4-.92-.59-1.43-.59-.52 0-1.04.2-1.43.59L10.3 9.45l-7.72 7.72c-.78.78-.78 2.05 0 2.83L4 21.41c.39.39.9.59 1.41.59.51 0 1.02-.2 1.41-.59l7.78-7.78 2.81-2.81c.8-.78.8-2.07 0-2.86zM5.41 20L4 18.59l7.72-7.72 1.47 1.35L5.41 20z\"/>\n",
              "  </svg>\n",
              "      </button>\n",
              "      \n",
              "  <style>\n",
              "    .colab-df-container {\n",
              "      display:flex;\n",
              "      flex-wrap:wrap;\n",
              "      gap: 12px;\n",
              "    }\n",
              "\n",
              "    .colab-df-convert {\n",
              "      background-color: #E8F0FE;\n",
              "      border: none;\n",
              "      border-radius: 50%;\n",
              "      cursor: pointer;\n",
              "      display: none;\n",
              "      fill: #1967D2;\n",
              "      height: 32px;\n",
              "      padding: 0 0 0 0;\n",
              "      width: 32px;\n",
              "    }\n",
              "\n",
              "    .colab-df-convert:hover {\n",
              "      background-color: #E2EBFA;\n",
              "      box-shadow: 0px 1px 2px rgba(60, 64, 67, 0.3), 0px 1px 3px 1px rgba(60, 64, 67, 0.15);\n",
              "      fill: #174EA6;\n",
              "    }\n",
              "\n",
              "    [theme=dark] .colab-df-convert {\n",
              "      background-color: #3B4455;\n",
              "      fill: #D2E3FC;\n",
              "    }\n",
              "\n",
              "    [theme=dark] .colab-df-convert:hover {\n",
              "      background-color: #434B5C;\n",
              "      box-shadow: 0px 1px 3px 1px rgba(0, 0, 0, 0.15);\n",
              "      filter: drop-shadow(0px 1px 2px rgba(0, 0, 0, 0.3));\n",
              "      fill: #FFFFFF;\n",
              "    }\n",
              "  </style>\n",
              "\n",
              "      <script>\n",
              "        const buttonEl =\n",
              "          document.querySelector('#df-f5a2394a-0d07-4a68-9680-e12ea10a5aa7 button.colab-df-convert');\n",
              "        buttonEl.style.display =\n",
              "          google.colab.kernel.accessAllowed ? 'block' : 'none';\n",
              "\n",
              "        async function convertToInteractive(key) {\n",
              "          const element = document.querySelector('#df-f5a2394a-0d07-4a68-9680-e12ea10a5aa7');\n",
              "          const dataTable =\n",
              "            await google.colab.kernel.invokeFunction('convertToInteractive',\n",
              "                                                     [key], {});\n",
              "          if (!dataTable) return;\n",
              "\n",
              "          const docLinkHtml = 'Like what you see? Visit the ' +\n",
              "            '<a target=\"_blank\" href=https://colab.research.google.com/notebooks/data_table.ipynb>data table notebook</a>'\n",
              "            + ' to learn more about interactive tables.';\n",
              "          element.innerHTML = '';\n",
              "          dataTable['output_type'] = 'display_data';\n",
              "          await google.colab.output.renderOutput(dataTable, element);\n",
              "          const docLink = document.createElement('div');\n",
              "          docLink.innerHTML = docLinkHtml;\n",
              "          element.appendChild(docLink);\n",
              "        }\n",
              "      </script>\n",
              "    </div>\n",
              "  </div>\n",
              "  "
            ]
          },
          "metadata": {},
          "execution_count": 4
        }
      ]
    },
    {
      "cell_type": "code",
      "source": [
        "data.info()"
      ],
      "metadata": {
        "id": "sjRcWARrIrMl",
        "colab": {
          "base_uri": "https://localhost:8080/"
        },
        "outputId": "7cc1bed7-562d-4127-c48a-73a5c9fc1000"
      },
      "execution_count": 5,
      "outputs": [
        {
          "output_type": "stream",
          "name": "stdout",
          "text": [
            "<class 'pandas.core.frame.DataFrame'>\n",
            "RangeIndex: 354369 entries, 0 to 354368\n",
            "Data columns (total 16 columns):\n",
            " #   Column             Non-Null Count   Dtype \n",
            "---  ------             --------------   ----- \n",
            " 0   DateCrawled        354369 non-null  object\n",
            " 1   Price              354369 non-null  int64 \n",
            " 2   VehicleType        316879 non-null  object\n",
            " 3   RegistrationYear   354369 non-null  int64 \n",
            " 4   Gearbox            334536 non-null  object\n",
            " 5   Power              354369 non-null  int64 \n",
            " 6   Model              334664 non-null  object\n",
            " 7   Kilometer          354369 non-null  int64 \n",
            " 8   RegistrationMonth  354369 non-null  int64 \n",
            " 9   FuelType           321474 non-null  object\n",
            " 10  Brand              354369 non-null  object\n",
            " 11  NotRepaired        283215 non-null  object\n",
            " 12  DateCreated        354369 non-null  object\n",
            " 13  NumberOfPictures   354369 non-null  int64 \n",
            " 14  PostalCode         354369 non-null  int64 \n",
            " 15  LastSeen           354369 non-null  object\n",
            "dtypes: int64(7), object(9)\n",
            "memory usage: 43.3+ MB\n"
          ]
        }
      ]
    },
    {
      "cell_type": "code",
      "source": [
        "data.describe()"
      ],
      "metadata": {
        "id": "ukTTJmIMIr6z",
        "colab": {
          "base_uri": "https://localhost:8080/",
          "height": 300
        },
        "outputId": "b9599208-abd2-46c2-9f28-840779081f91"
      },
      "execution_count": 6,
      "outputs": [
        {
          "output_type": "execute_result",
          "data": {
            "text/plain": [
              "               Price  RegistrationYear          Power      Kilometer  \\\n",
              "count  354369.000000     354369.000000  354369.000000  354369.000000   \n",
              "mean     4416.656776       2004.234448     110.094337  128211.172535   \n",
              "std      4514.158514         90.227958     189.850405   37905.341530   \n",
              "min         0.000000       1000.000000       0.000000    5000.000000   \n",
              "25%      1050.000000       1999.000000      69.000000  125000.000000   \n",
              "50%      2700.000000       2003.000000     105.000000  150000.000000   \n",
              "75%      6400.000000       2008.000000     143.000000  150000.000000   \n",
              "max     20000.000000       9999.000000   20000.000000  150000.000000   \n",
              "\n",
              "       RegistrationMonth  NumberOfPictures     PostalCode  \n",
              "count      354369.000000          354369.0  354369.000000  \n",
              "mean            5.714645               0.0   50508.689087  \n",
              "std             3.726421               0.0   25783.096248  \n",
              "min             0.000000               0.0    1067.000000  \n",
              "25%             3.000000               0.0   30165.000000  \n",
              "50%             6.000000               0.0   49413.000000  \n",
              "75%             9.000000               0.0   71083.000000  \n",
              "max            12.000000               0.0   99998.000000  "
            ],
            "text/html": [
              "\n",
              "  <div id=\"df-908f66b9-9eba-4e15-a40c-25a6ce8a620c\">\n",
              "    <div class=\"colab-df-container\">\n",
              "      <div>\n",
              "<style scoped>\n",
              "    .dataframe tbody tr th:only-of-type {\n",
              "        vertical-align: middle;\n",
              "    }\n",
              "\n",
              "    .dataframe tbody tr th {\n",
              "        vertical-align: top;\n",
              "    }\n",
              "\n",
              "    .dataframe thead th {\n",
              "        text-align: right;\n",
              "    }\n",
              "</style>\n",
              "<table border=\"1\" class=\"dataframe\">\n",
              "  <thead>\n",
              "    <tr style=\"text-align: right;\">\n",
              "      <th></th>\n",
              "      <th>Price</th>\n",
              "      <th>RegistrationYear</th>\n",
              "      <th>Power</th>\n",
              "      <th>Kilometer</th>\n",
              "      <th>RegistrationMonth</th>\n",
              "      <th>NumberOfPictures</th>\n",
              "      <th>PostalCode</th>\n",
              "    </tr>\n",
              "  </thead>\n",
              "  <tbody>\n",
              "    <tr>\n",
              "      <th>count</th>\n",
              "      <td>354369.000000</td>\n",
              "      <td>354369.000000</td>\n",
              "      <td>354369.000000</td>\n",
              "      <td>354369.000000</td>\n",
              "      <td>354369.000000</td>\n",
              "      <td>354369.0</td>\n",
              "      <td>354369.000000</td>\n",
              "    </tr>\n",
              "    <tr>\n",
              "      <th>mean</th>\n",
              "      <td>4416.656776</td>\n",
              "      <td>2004.234448</td>\n",
              "      <td>110.094337</td>\n",
              "      <td>128211.172535</td>\n",
              "      <td>5.714645</td>\n",
              "      <td>0.0</td>\n",
              "      <td>50508.689087</td>\n",
              "    </tr>\n",
              "    <tr>\n",
              "      <th>std</th>\n",
              "      <td>4514.158514</td>\n",
              "      <td>90.227958</td>\n",
              "      <td>189.850405</td>\n",
              "      <td>37905.341530</td>\n",
              "      <td>3.726421</td>\n",
              "      <td>0.0</td>\n",
              "      <td>25783.096248</td>\n",
              "    </tr>\n",
              "    <tr>\n",
              "      <th>min</th>\n",
              "      <td>0.000000</td>\n",
              "      <td>1000.000000</td>\n",
              "      <td>0.000000</td>\n",
              "      <td>5000.000000</td>\n",
              "      <td>0.000000</td>\n",
              "      <td>0.0</td>\n",
              "      <td>1067.000000</td>\n",
              "    </tr>\n",
              "    <tr>\n",
              "      <th>25%</th>\n",
              "      <td>1050.000000</td>\n",
              "      <td>1999.000000</td>\n",
              "      <td>69.000000</td>\n",
              "      <td>125000.000000</td>\n",
              "      <td>3.000000</td>\n",
              "      <td>0.0</td>\n",
              "      <td>30165.000000</td>\n",
              "    </tr>\n",
              "    <tr>\n",
              "      <th>50%</th>\n",
              "      <td>2700.000000</td>\n",
              "      <td>2003.000000</td>\n",
              "      <td>105.000000</td>\n",
              "      <td>150000.000000</td>\n",
              "      <td>6.000000</td>\n",
              "      <td>0.0</td>\n",
              "      <td>49413.000000</td>\n",
              "    </tr>\n",
              "    <tr>\n",
              "      <th>75%</th>\n",
              "      <td>6400.000000</td>\n",
              "      <td>2008.000000</td>\n",
              "      <td>143.000000</td>\n",
              "      <td>150000.000000</td>\n",
              "      <td>9.000000</td>\n",
              "      <td>0.0</td>\n",
              "      <td>71083.000000</td>\n",
              "    </tr>\n",
              "    <tr>\n",
              "      <th>max</th>\n",
              "      <td>20000.000000</td>\n",
              "      <td>9999.000000</td>\n",
              "      <td>20000.000000</td>\n",
              "      <td>150000.000000</td>\n",
              "      <td>12.000000</td>\n",
              "      <td>0.0</td>\n",
              "      <td>99998.000000</td>\n",
              "    </tr>\n",
              "  </tbody>\n",
              "</table>\n",
              "</div>\n",
              "      <button class=\"colab-df-convert\" onclick=\"convertToInteractive('df-908f66b9-9eba-4e15-a40c-25a6ce8a620c')\"\n",
              "              title=\"Convert this dataframe to an interactive table.\"\n",
              "              style=\"display:none;\">\n",
              "        \n",
              "  <svg xmlns=\"http://www.w3.org/2000/svg\" height=\"24px\"viewBox=\"0 0 24 24\"\n",
              "       width=\"24px\">\n",
              "    <path d=\"M0 0h24v24H0V0z\" fill=\"none\"/>\n",
              "    <path d=\"M18.56 5.44l.94 2.06.94-2.06 2.06-.94-2.06-.94-.94-2.06-.94 2.06-2.06.94zm-11 1L8.5 8.5l.94-2.06 2.06-.94-2.06-.94L8.5 2.5l-.94 2.06-2.06.94zm10 10l.94 2.06.94-2.06 2.06-.94-2.06-.94-.94-2.06-.94 2.06-2.06.94z\"/><path d=\"M17.41 7.96l-1.37-1.37c-.4-.4-.92-.59-1.43-.59-.52 0-1.04.2-1.43.59L10.3 9.45l-7.72 7.72c-.78.78-.78 2.05 0 2.83L4 21.41c.39.39.9.59 1.41.59.51 0 1.02-.2 1.41-.59l7.78-7.78 2.81-2.81c.8-.78.8-2.07 0-2.86zM5.41 20L4 18.59l7.72-7.72 1.47 1.35L5.41 20z\"/>\n",
              "  </svg>\n",
              "      </button>\n",
              "      \n",
              "  <style>\n",
              "    .colab-df-container {\n",
              "      display:flex;\n",
              "      flex-wrap:wrap;\n",
              "      gap: 12px;\n",
              "    }\n",
              "\n",
              "    .colab-df-convert {\n",
              "      background-color: #E8F0FE;\n",
              "      border: none;\n",
              "      border-radius: 50%;\n",
              "      cursor: pointer;\n",
              "      display: none;\n",
              "      fill: #1967D2;\n",
              "      height: 32px;\n",
              "      padding: 0 0 0 0;\n",
              "      width: 32px;\n",
              "    }\n",
              "\n",
              "    .colab-df-convert:hover {\n",
              "      background-color: #E2EBFA;\n",
              "      box-shadow: 0px 1px 2px rgba(60, 64, 67, 0.3), 0px 1px 3px 1px rgba(60, 64, 67, 0.15);\n",
              "      fill: #174EA6;\n",
              "    }\n",
              "\n",
              "    [theme=dark] .colab-df-convert {\n",
              "      background-color: #3B4455;\n",
              "      fill: #D2E3FC;\n",
              "    }\n",
              "\n",
              "    [theme=dark] .colab-df-convert:hover {\n",
              "      background-color: #434B5C;\n",
              "      box-shadow: 0px 1px 3px 1px rgba(0, 0, 0, 0.15);\n",
              "      filter: drop-shadow(0px 1px 2px rgba(0, 0, 0, 0.3));\n",
              "      fill: #FFFFFF;\n",
              "    }\n",
              "  </style>\n",
              "\n",
              "      <script>\n",
              "        const buttonEl =\n",
              "          document.querySelector('#df-908f66b9-9eba-4e15-a40c-25a6ce8a620c button.colab-df-convert');\n",
              "        buttonEl.style.display =\n",
              "          google.colab.kernel.accessAllowed ? 'block' : 'none';\n",
              "\n",
              "        async function convertToInteractive(key) {\n",
              "          const element = document.querySelector('#df-908f66b9-9eba-4e15-a40c-25a6ce8a620c');\n",
              "          const dataTable =\n",
              "            await google.colab.kernel.invokeFunction('convertToInteractive',\n",
              "                                                     [key], {});\n",
              "          if (!dataTable) return;\n",
              "\n",
              "          const docLinkHtml = 'Like what you see? Visit the ' +\n",
              "            '<a target=\"_blank\" href=https://colab.research.google.com/notebooks/data_table.ipynb>data table notebook</a>'\n",
              "            + ' to learn more about interactive tables.';\n",
              "          element.innerHTML = '';\n",
              "          dataTable['output_type'] = 'display_data';\n",
              "          await google.colab.output.renderOutput(dataTable, element);\n",
              "          const docLink = document.createElement('div');\n",
              "          docLink.innerHTML = docLinkHtml;\n",
              "          element.appendChild(docLink);\n",
              "        }\n",
              "      </script>\n",
              "    </div>\n",
              "  </div>\n",
              "  "
            ]
          },
          "metadata": {},
          "execution_count": 6
        }
      ]
    },
    {
      "cell_type": "markdown",
      "source": [
        "Нам доступно 354369 строк данных. Приступим в предобработке."
      ],
      "metadata": {
        "id": "GL8bUiv7I92x"
      }
    },
    {
      "cell_type": "markdown",
      "source": [
        "# **Data preparation**"
      ],
      "metadata": {
        "id": "Qkre1UyaNHyo"
      }
    },
    {
      "cell_type": "markdown",
      "source": [
        "Для начала исправим названия колонок (уберем заглавные символы и применим змеиный регистр)."
      ],
      "metadata": {
        "id": "GvUTZUa9xqg5"
      }
    },
    {
      "cell_type": "code",
      "source": [
        "data.columns = ['date_crawled', 'price', 'vehicle_type', 'registration_year', \n",
        "                'gearbox','power', 'model', 'kilometer', 'registration_month',\n",
        "                'fuel_type', 'brand', 'is_repaired', 'date_created', \n",
        "                'number_of_pictures', 'postal_code', 'last_seen']"
      ],
      "metadata": {
        "id": "jNFtDlDTvzc-"
      },
      "execution_count": 7,
      "outputs": []
    },
    {
      "cell_type": "markdown",
      "source": [
        "Теперь подправим типы данных."
      ],
      "metadata": {
        "id": "S-ENjTOs1Puz"
      }
    },
    {
      "cell_type": "code",
      "source": [
        "dt_cols = ['date_crawled', 'date_created', 'last_seen'] \n",
        "data[dt_cols] = data[dt_cols].apply(pd.to_datetime)"
      ],
      "metadata": {
        "id": "s6Z_Z5Ca1Thr"
      },
      "execution_count": 8,
      "outputs": []
    },
    {
      "cell_type": "code",
      "source": [
        "int_cols = ['price', 'registration_year', 'power', 'kilometer', 'registration_month', 'number_of_pictures', 'postal_code']\n",
        "data[int_cols] = data[int_cols].astype('int32')"
      ],
      "metadata": {
        "id": "DeW8Q6LFBQSV"
      },
      "execution_count": 9,
      "outputs": []
    },
    {
      "cell_type": "code",
      "source": [
        "data['is_repaired'] = data['is_repaired'].fillna('unknown')"
      ],
      "metadata": {
        "id": "BhcRMPYI2i_G"
      },
      "execution_count": 10,
      "outputs": []
    },
    {
      "cell_type": "markdown",
      "source": [
        "В колонке is_repaired присуствует много пропусков. Так как эта колонка содержит всего две категории ( yes и no), то присвоим пропускам категорию - 'unknown'."
      ],
      "metadata": {
        "id": "9OPzpmjjyQOS"
      }
    },
    {
      "cell_type": "markdown",
      "source": [
        "Существует много способов как заполнить пропуски. Так как в большинстве колонок пропусков довольно много, то просто удалить их было бы ошибкой. Для того, чтобы не искажать данные и не заполнять их например модой или медианой - я буду заполнять пропуски значением 'unknown'. Если колонка будет не категориальная или там будет незначительное кол-во пропусков, то имеет смысл просто удалить пропуски."
      ],
      "metadata": {
        "id": "asXJzMScuVg8"
      }
    },
    {
      "cell_type": "markdown",
      "source": [
        "Проанализируем колонку number_of_pictures."
      ],
      "metadata": {
        "id": "1F5FJv1hCD5i"
      }
    },
    {
      "cell_type": "code",
      "source": [
        "data['number_of_pictures'].unique()"
      ],
      "metadata": {
        "id": "V3nbVvcCNBWl",
        "colab": {
          "base_uri": "https://localhost:8080/"
        },
        "outputId": "3c77d076-5c52-433a-839e-1a42aad7107e"
      },
      "execution_count": 11,
      "outputs": [
        {
          "output_type": "execute_result",
          "data": {
            "text/plain": [
              "array([0], dtype=int32)"
            ]
          },
          "metadata": {},
          "execution_count": 11
        }
      ]
    },
    {
      "cell_type": "markdown",
      "source": [
        "Как мы видим в колонке number_of_pictures все значения равны 0. Удалим ее, так как данная колонка бесполезна."
      ],
      "metadata": {
        "id": "vDg5GWu3zuIS"
      }
    },
    {
      "cell_type": "code",
      "source": [
        "data = data.drop('number_of_pictures', axis = 1)"
      ],
      "metadata": {
        "id": "0lqQLY3d0JWl"
      },
      "execution_count": 12,
      "outputs": []
    },
    {
      "cell_type": "markdown",
      "source": [
        "Изучим колонку date_created.\n",
        "\n",
        "\n"
      ],
      "metadata": {
        "id": "l6sM95sIiHTT"
      }
    },
    {
      "cell_type": "code",
      "source": [
        "data['date_created'].dt.year.value_counts()"
      ],
      "metadata": {
        "colab": {
          "base_uri": "https://localhost:8080/"
        },
        "id": "ttPez77KeuFI",
        "outputId": "e937a929-853b-4db0-a494-24844619ded5"
      },
      "execution_count": 13,
      "outputs": [
        {
          "output_type": "execute_result",
          "data": {
            "text/plain": [
              "2016    354343\n",
              "2015        25\n",
              "2014         1\n",
              "Name: date_created, dtype: int64"
            ]
          },
          "metadata": {},
          "execution_count": 13
        }
      ]
    },
    {
      "cell_type": "markdown",
      "source": [
        "В датасете в основном анкеты были созданы в 2016 году."
      ],
      "metadata": {
        "id": "CssBn06SibUj"
      }
    },
    {
      "cell_type": "markdown",
      "source": [
        "Нам не понадобятся колонки date_crawled, date_created, last_seen, так как они никакой полезной информации в себе не несут. Поэтому удалим их."
      ],
      "metadata": {
        "id": "JIY_O3j4il4B"
      }
    },
    {
      "cell_type": "code",
      "source": [
        "data = data.drop(['date_crawled', 'date_created', 'last_seen'], axis = 1)"
      ],
      "metadata": {
        "id": "sDJmoHYLjRcS"
      },
      "execution_count": 14,
      "outputs": []
    },
    {
      "cell_type": "markdown",
      "source": [
        "Изучим колонку registration_year."
      ],
      "metadata": {
        "id": "GbWeINWyjRQz"
      }
    },
    {
      "cell_type": "code",
      "source": [
        "data['registration_year'].min()"
      ],
      "metadata": {
        "colab": {
          "base_uri": "https://localhost:8080/"
        },
        "id": "TSpH__ZfjdBX",
        "outputId": "fe646ef0-7ed9-40c1-d547-abf0258ad20d"
      },
      "execution_count": 15,
      "outputs": [
        {
          "output_type": "execute_result",
          "data": {
            "text/plain": [
              "1000"
            ]
          },
          "metadata": {},
          "execution_count": 15
        }
      ]
    },
    {
      "cell_type": "code",
      "source": [
        "data['registration_year'].max()"
      ],
      "metadata": {
        "colab": {
          "base_uri": "https://localhost:8080/"
        },
        "id": "ap65Fh1xkV6C",
        "outputId": "b77db3b9-af69-4968-80ac-bfb568022f66"
      },
      "execution_count": 16,
      "outputs": [
        {
          "output_type": "execute_result",
          "data": {
            "text/plain": [
              "9999"
            ]
          },
          "metadata": {},
          "execution_count": 16
        }
      ]
    },
    {
      "cell_type": "markdown",
      "source": [
        "Присутсвует много странных значений. Например, как будто кто-то зарегестрировал автомобиль в 1400 году, хотя тогда автомобилей вообще не существовало или кто-то зарегестрировал автомобиль в 8200 году, хотя в колонке даты создания анкеты максимальный год - 2016."
      ],
      "metadata": {
        "id": "rMVxER5dk6Kl"
      }
    },
    {
      "cell_type": "markdown",
      "source": [
        "Удалим все строки с годом регистрации автомобиля больше 2016 года и меньше 1970 года."
      ],
      "metadata": {
        "id": "LvsDxbItmyiq"
      }
    },
    {
      "cell_type": "code",
      "source": [
        "data = data[(data['registration_year'] < 2017) & (data['registration_year'] >= 1970)]"
      ],
      "metadata": {
        "id": "HoEMwuTDm5d5"
      },
      "execution_count": 17,
      "outputs": []
    },
    {
      "cell_type": "markdown",
      "source": [
        "Изучим колонку vehicle_type."
      ],
      "metadata": {
        "id": "Tz52h3cIzizg"
      }
    },
    {
      "cell_type": "code",
      "source": [
        "data['vehicle_type'].value_counts()"
      ],
      "metadata": {
        "colab": {
          "base_uri": "https://localhost:8080/"
        },
        "id": "NqBNI-wbezHk",
        "outputId": "fa919213-e81e-4143-b86c-5bddfa4b940f"
      },
      "execution_count": 18,
      "outputs": [
        {
          "output_type": "execute_result",
          "data": {
            "text/plain": [
              "sedan          91018\n",
              "small          79718\n",
              "wagon          65120\n",
              "bus            28742\n",
              "convertible    20085\n",
              "coupe          15984\n",
              "suv            11912\n",
              "other           3205\n",
              "Name: vehicle_type, dtype: int64"
            ]
          },
          "metadata": {},
          "execution_count": 18
        }
      ]
    },
    {
      "cell_type": "code",
      "source": [
        "data['vehicle_type'].isna().sum()"
      ],
      "metadata": {
        "colab": {
          "base_uri": "https://localhost:8080/"
        },
        "id": "d1NBwvpwfX1Z",
        "outputId": "118c8f8f-cc11-415c-e546-8868579f6232"
      },
      "execution_count": 19,
      "outputs": [
        {
          "output_type": "execute_result",
          "data": {
            "text/plain": [
              "22717"
            ]
          },
          "metadata": {},
          "execution_count": 19
        }
      ]
    },
    {
      "cell_type": "markdown",
      "source": [
        "Пропусков много. Поступим с ними также, как в колонке is_reapired."
      ],
      "metadata": {
        "id": "qNZwTFjw1r0w"
      }
    },
    {
      "cell_type": "code",
      "source": [
        "data['vehicle_type'] = data['vehicle_type'].fillna('unknown')"
      ],
      "metadata": {
        "id": "G80AwiQa16mc"
      },
      "execution_count": 20,
      "outputs": []
    },
    {
      "cell_type": "markdown",
      "source": [
        "В данных присутсвуют строки в которых цена машины равна нулю. Такого быть не может, поэтому удалим их."
      ],
      "metadata": {
        "id": "Aiwr9rgYhG2T"
      }
    },
    {
      "cell_type": "code",
      "source": [
        "len(data[data['price'] == 0])"
      ],
      "metadata": {
        "colab": {
          "base_uri": "https://localhost:8080/"
        },
        "id": "Y5Mt3UhGhPh9",
        "outputId": "21722da3-b60d-476d-99d5-a2472ae26a18"
      },
      "execution_count": 21,
      "outputs": [
        {
          "output_type": "execute_result",
          "data": {
            "text/plain": [
              "9858"
            ]
          },
          "metadata": {},
          "execution_count": 21
        }
      ]
    },
    {
      "cell_type": "code",
      "source": [
        "data = data[data['price'] != 0]"
      ],
      "metadata": {
        "id": "9HTeGjN6gU4y"
      },
      "execution_count": 22,
      "outputs": []
    },
    {
      "cell_type": "markdown",
      "source": [
        "В колонке power тоже много нулевых значений. Можно попробовать как-нибудь спарсить значение лошадиных сил по имеющейся марке и модели автомобиля. Такой вариант потребует много времени и усилий. Попробуем что-то попробще. Так как это не категориальная колонка, то мы не можем просто создать новую категорию 'unknown', поэтому просто удалим эти строки."
      ],
      "metadata": {
        "id": "BooxmTXfhYi2"
      }
    },
    {
      "cell_type": "code",
      "source": [
        "len(data[data['power'] == 0])"
      ],
      "metadata": {
        "colab": {
          "base_uri": "https://localhost:8080/"
        },
        "id": "DTM7E_BnhDGT",
        "outputId": "d9d48353-8a1a-45f9-f7ff-f76da0f22e95"
      },
      "execution_count": 23,
      "outputs": [
        {
          "output_type": "execute_result",
          "data": {
            "text/plain": [
              "32465"
            ]
          },
          "metadata": {},
          "execution_count": 23
        }
      ]
    },
    {
      "cell_type": "code",
      "source": [
        "data = data[data['power'] != 0]"
      ],
      "metadata": {
        "id": "sQb086gj3IYM"
      },
      "execution_count": 24,
      "outputs": []
    },
    {
      "cell_type": "markdown",
      "source": [
        "Еще в колонке power много странных значений. Например 20к лошадиных сил."
      ],
      "metadata": {
        "id": "xU3-eZ7Tts7W"
      }
    },
    {
      "cell_type": "code",
      "source": [
        "data['power'].max()"
      ],
      "metadata": {
        "colab": {
          "base_uri": "https://localhost:8080/"
        },
        "id": "MFNzkpvAtxlv",
        "outputId": "46d0708c-3d67-45c8-b850-0ea637fecbc6"
      },
      "execution_count": 25,
      "outputs": [
        {
          "output_type": "execute_result",
          "data": {
            "text/plain": [
              "20000"
            ]
          },
          "metadata": {},
          "execution_count": 25
        }
      ]
    },
    {
      "cell_type": "code",
      "source": [
        "data['power'].median()"
      ],
      "metadata": {
        "colab": {
          "base_uri": "https://localhost:8080/"
        },
        "id": "E-uRjy6ot1oo",
        "outputId": "2a1f3130-decc-4138-9ade-fa147d314ef1"
      },
      "execution_count": 26,
      "outputs": [
        {
          "output_type": "execute_result",
          "data": {
            "text/plain": [
              "111.0"
            ]
          },
          "metadata": {},
          "execution_count": 26
        }
      ]
    },
    {
      "cell_type": "markdown",
      "source": [
        "Удалим строки с лошадиными силами выше 1000. Если что потом в EDA еще по лучше подправим посмотрев на гистрограмму."
      ],
      "metadata": {
        "id": "D1B496NWuCMm"
      }
    },
    {
      "cell_type": "code",
      "source": [
        "data = data[data['power'] <= 1000]"
      ],
      "metadata": {
        "id": "4Gm9b4XjuYqU"
      },
      "execution_count": 27,
      "outputs": []
    },
    {
      "cell_type": "markdown",
      "source": [
        "Изучим колонку brand."
      ],
      "metadata": {
        "id": "pq1WN39R0jgd"
      }
    },
    {
      "cell_type": "code",
      "source": [
        "data['brand'].value_counts()"
      ],
      "metadata": {
        "colab": {
          "base_uri": "https://localhost:8080/"
        },
        "id": "vty88SRx0mhf",
        "outputId": "bcaa2068-db5a-4e2e-cc28-6387b2985bce"
      },
      "execution_count": 28,
      "outputs": [
        {
          "output_type": "execute_result",
          "data": {
            "text/plain": [
              "volkswagen        64057\n",
              "opel              32487\n",
              "bmw               32267\n",
              "mercedes_benz     27285\n",
              "audi              25632\n",
              "ford              20650\n",
              "renault           13937\n",
              "peugeot            9413\n",
              "fiat               7644\n",
              "seat               5861\n",
              "skoda              4945\n",
              "mazda              4726\n",
              "smart              4487\n",
              "citroen            4247\n",
              "nissan             4048\n",
              "toyota             4014\n",
              "hyundai            3110\n",
              "mini               2964\n",
              "volvo              2795\n",
              "mitsubishi         2499\n",
              "honda              2365\n",
              "kia                2088\n",
              "alfa_romeo         1973\n",
              "suzuki             1966\n",
              "sonstige_autos     1665\n",
              "chevrolet          1438\n",
              "chrysler           1158\n",
              "dacia               801\n",
              "subaru              647\n",
              "porsche             621\n",
              "daihatsu            616\n",
              "jeep                565\n",
              "saab                474\n",
              "land_rover          462\n",
              "jaguar              436\n",
              "daewoo              411\n",
              "lancia              382\n",
              "rover               367\n",
              "trabant             258\n",
              "lada                157\n",
              "Name: brand, dtype: int64"
            ]
          },
          "metadata": {},
          "execution_count": 28
        }
      ]
    },
    {
      "cell_type": "markdown",
      "source": [
        "Очень много разных брендов. Оставим только 18 самых популярных, а остальных закинем в категорию 'other'."
      ],
      "metadata": {
        "id": "K27ia2_L1C_n"
      }
    },
    {
      "cell_type": "code",
      "source": [
        "top18 = data['brand'].value_counts()[:18].index\n",
        "data['brand'] = data['brand'].apply(lambda x: 'other' if x not in top18 else x)"
      ],
      "metadata": {
        "id": "7qPh8hF809r3"
      },
      "execution_count": 29,
      "outputs": []
    },
    {
      "cell_type": "markdown",
      "source": [
        "Изучим  колонку fuel_type."
      ],
      "metadata": {
        "id": "LQsg_LtA4KOa"
      }
    },
    {
      "cell_type": "code",
      "source": [
        "data['fuel_type'].value_counts()"
      ],
      "metadata": {
        "colab": {
          "base_uri": "https://localhost:8080/"
        },
        "id": "lBBd4assjnAO",
        "outputId": "e8b20d86-b618-4256-be7f-ce0a71de7006"
      },
      "execution_count": 30,
      "outputs": [
        {
          "output_type": "execute_result",
          "data": {
            "text/plain": [
              "petrol      187006\n",
              "gasoline     87835\n",
              "lpg           4684\n",
              "cng            483\n",
              "hybrid         202\n",
              "other           88\n",
              "electric        76\n",
              "Name: fuel_type, dtype: int64"
            ]
          },
          "metadata": {},
          "execution_count": 30
        }
      ]
    },
    {
      "cell_type": "code",
      "source": [
        "data['fuel_type'].isna().sum()"
      ],
      "metadata": {
        "colab": {
          "base_uri": "https://localhost:8080/"
        },
        "id": "iG2CaCuhlA5r",
        "outputId": "bec00947-87e8-4a34-e93c-513f2d786e0d"
      },
      "execution_count": 31,
      "outputs": [
        {
          "output_type": "execute_result",
          "data": {
            "text/plain": [
              "15544"
            ]
          },
          "metadata": {},
          "execution_count": 31
        }
      ]
    },
    {
      "cell_type": "markdown",
      "source": [
        "Также много пропусков. Заполним их значением 'unknown'."
      ],
      "metadata": {
        "id": "hdZcUmiH4vJG"
      }
    },
    {
      "cell_type": "code",
      "source": [
        "data['fuel_type'] = data['fuel_type'].fillna('unknown')"
      ],
      "metadata": {
        "id": "aj-I2ovD44uO"
      },
      "execution_count": 32,
      "outputs": []
    },
    {
      "cell_type": "markdown",
      "source": [
        "Изучим колонку model."
      ],
      "metadata": {
        "id": "a3XjsBzP6jDH"
      }
    },
    {
      "cell_type": "code",
      "source": [
        "data['model'].value_counts()"
      ],
      "metadata": {
        "colab": {
          "base_uri": "https://localhost:8080/"
        },
        "id": "ERXbWWqxlE2d",
        "outputId": "1305e91e-57a3-4536-f1b3-46cc092dc92a"
      },
      "execution_count": 33,
      "outputs": [
        {
          "output_type": "execute_result",
          "data": {
            "text/plain": [
              "golf                  24728\n",
              "other                 20127\n",
              "3er                   17387\n",
              "polo                  10696\n",
              "corsa                 10134\n",
              "                      ...  \n",
              "samara                    5\n",
              "serie_2                   4\n",
              "serie_3                   3\n",
              "rangerover                2\n",
              "range_rover_evoque        2\n",
              "Name: model, Length: 249, dtype: int64"
            ]
          },
          "metadata": {},
          "execution_count": 33
        }
      ]
    },
    {
      "cell_type": "markdown",
      "source": [
        "В данной колонки слишком много категорий. Оставим только 20 самых пополярных, а остальных поместим в категорию 'other'."
      ],
      "metadata": {
        "id": "7Gvir_-u6mvO"
      }
    },
    {
      "cell_type": "code",
      "source": [
        "top20 = data['model'].value_counts()[:21].index # 21 потому что в этом топе присуствует значение other."
      ],
      "metadata": {
        "id": "IVaBXRfEE8oJ"
      },
      "execution_count": 34,
      "outputs": []
    },
    {
      "cell_type": "code",
      "source": [
        "data['model'] = data['model'].apply(lambda x: 'other' if x not in top20 else x)"
      ],
      "metadata": {
        "id": "aJZ41yXOGZhP"
      },
      "execution_count": 35,
      "outputs": []
    },
    {
      "cell_type": "markdown",
      "source": [
        "Изучим колонку gearbox."
      ],
      "metadata": {
        "id": "bc7Sno-oHDuG"
      }
    },
    {
      "cell_type": "code",
      "source": [
        "data['gearbox'].value_counts()"
      ],
      "metadata": {
        "colab": {
          "base_uri": "https://localhost:8080/"
        },
        "id": "DrkWoXpIlaI2",
        "outputId": "f4b5ab9b-fe6e-4f9b-8a24-eb2d824a17d5"
      },
      "execution_count": 36,
      "outputs": [
        {
          "output_type": "execute_result",
          "data": {
            "text/plain": [
              "manual    231749\n",
              "auto       58817\n",
              "Name: gearbox, dtype: int64"
            ]
          },
          "metadata": {},
          "execution_count": 36
        }
      ]
    },
    {
      "cell_type": "code",
      "source": [
        "data['gearbox'].isna().sum()"
      ],
      "metadata": {
        "colab": {
          "base_uri": "https://localhost:8080/"
        },
        "id": "gRejbSeplg-z",
        "outputId": "b47a01bd-4739-404e-fe34-6b866f231eb4"
      },
      "execution_count": 37,
      "outputs": [
        {
          "output_type": "execute_result",
          "data": {
            "text/plain": [
              "5352"
            ]
          },
          "metadata": {},
          "execution_count": 37
        }
      ]
    },
    {
      "cell_type": "markdown",
      "source": [
        "В колонке gearbox пропусков незначительное кол-во. Можно заполнить пропуски значением 'auto', чтобы немного уменьшить дисбаланс классов, но давайте не будет искажать данные и просто удалим пропуски."
      ],
      "metadata": {
        "id": "mYdWNN8pHcWV"
      }
    },
    {
      "cell_type": "code",
      "source": [
        "data = data.dropna(subset=['gearbox'])"
      ],
      "metadata": {
        "id": "yCABhwAoIZsp"
      },
      "execution_count": 38,
      "outputs": []
    },
    {
      "cell_type": "markdown",
      "source": [
        "Предобработка завершена. Посмотрим на предобработанные данные и перейдем к EDA."
      ],
      "metadata": {
        "id": "t-gp68vsI8UK"
      }
    },
    {
      "cell_type": "code",
      "source": [
        "data.head()"
      ],
      "metadata": {
        "colab": {
          "base_uri": "https://localhost:8080/",
          "height": 206
        },
        "id": "MnIe3AE5JDhw",
        "outputId": "723cf875-9b84-433e-80c4-dc28a3579cb7"
      },
      "execution_count": 39,
      "outputs": [
        {
          "output_type": "execute_result",
          "data": {
            "text/plain": [
              "   price vehicle_type  registration_year gearbox  power  model  kilometer  \\\n",
              "1  18300        coupe               2011  manual    190  other     125000   \n",
              "2   9800          suv               2004    auto    163  other     125000   \n",
              "3   1500        small               2001  manual     75   golf     150000   \n",
              "4   3600        small               2008  manual     69  other      90000   \n",
              "5    650        sedan               1995  manual    102    3er     150000   \n",
              "\n",
              "   registration_month fuel_type       brand is_repaired  postal_code  \n",
              "1                   5  gasoline        audi         yes        66954  \n",
              "2                   8  gasoline       other     unknown        90480  \n",
              "3                   6    petrol  volkswagen          no        91074  \n",
              "4                   7  gasoline       skoda          no        60437  \n",
              "5                  10    petrol         bmw         yes        33775  "
            ],
            "text/html": [
              "\n",
              "  <div id=\"df-0e005715-aff5-446b-a146-d7fff6f064b8\">\n",
              "    <div class=\"colab-df-container\">\n",
              "      <div>\n",
              "<style scoped>\n",
              "    .dataframe tbody tr th:only-of-type {\n",
              "        vertical-align: middle;\n",
              "    }\n",
              "\n",
              "    .dataframe tbody tr th {\n",
              "        vertical-align: top;\n",
              "    }\n",
              "\n",
              "    .dataframe thead th {\n",
              "        text-align: right;\n",
              "    }\n",
              "</style>\n",
              "<table border=\"1\" class=\"dataframe\">\n",
              "  <thead>\n",
              "    <tr style=\"text-align: right;\">\n",
              "      <th></th>\n",
              "      <th>price</th>\n",
              "      <th>vehicle_type</th>\n",
              "      <th>registration_year</th>\n",
              "      <th>gearbox</th>\n",
              "      <th>power</th>\n",
              "      <th>model</th>\n",
              "      <th>kilometer</th>\n",
              "      <th>registration_month</th>\n",
              "      <th>fuel_type</th>\n",
              "      <th>brand</th>\n",
              "      <th>is_repaired</th>\n",
              "      <th>postal_code</th>\n",
              "    </tr>\n",
              "  </thead>\n",
              "  <tbody>\n",
              "    <tr>\n",
              "      <th>1</th>\n",
              "      <td>18300</td>\n",
              "      <td>coupe</td>\n",
              "      <td>2011</td>\n",
              "      <td>manual</td>\n",
              "      <td>190</td>\n",
              "      <td>other</td>\n",
              "      <td>125000</td>\n",
              "      <td>5</td>\n",
              "      <td>gasoline</td>\n",
              "      <td>audi</td>\n",
              "      <td>yes</td>\n",
              "      <td>66954</td>\n",
              "    </tr>\n",
              "    <tr>\n",
              "      <th>2</th>\n",
              "      <td>9800</td>\n",
              "      <td>suv</td>\n",
              "      <td>2004</td>\n",
              "      <td>auto</td>\n",
              "      <td>163</td>\n",
              "      <td>other</td>\n",
              "      <td>125000</td>\n",
              "      <td>8</td>\n",
              "      <td>gasoline</td>\n",
              "      <td>other</td>\n",
              "      <td>unknown</td>\n",
              "      <td>90480</td>\n",
              "    </tr>\n",
              "    <tr>\n",
              "      <th>3</th>\n",
              "      <td>1500</td>\n",
              "      <td>small</td>\n",
              "      <td>2001</td>\n",
              "      <td>manual</td>\n",
              "      <td>75</td>\n",
              "      <td>golf</td>\n",
              "      <td>150000</td>\n",
              "      <td>6</td>\n",
              "      <td>petrol</td>\n",
              "      <td>volkswagen</td>\n",
              "      <td>no</td>\n",
              "      <td>91074</td>\n",
              "    </tr>\n",
              "    <tr>\n",
              "      <th>4</th>\n",
              "      <td>3600</td>\n",
              "      <td>small</td>\n",
              "      <td>2008</td>\n",
              "      <td>manual</td>\n",
              "      <td>69</td>\n",
              "      <td>other</td>\n",
              "      <td>90000</td>\n",
              "      <td>7</td>\n",
              "      <td>gasoline</td>\n",
              "      <td>skoda</td>\n",
              "      <td>no</td>\n",
              "      <td>60437</td>\n",
              "    </tr>\n",
              "    <tr>\n",
              "      <th>5</th>\n",
              "      <td>650</td>\n",
              "      <td>sedan</td>\n",
              "      <td>1995</td>\n",
              "      <td>manual</td>\n",
              "      <td>102</td>\n",
              "      <td>3er</td>\n",
              "      <td>150000</td>\n",
              "      <td>10</td>\n",
              "      <td>petrol</td>\n",
              "      <td>bmw</td>\n",
              "      <td>yes</td>\n",
              "      <td>33775</td>\n",
              "    </tr>\n",
              "  </tbody>\n",
              "</table>\n",
              "</div>\n",
              "      <button class=\"colab-df-convert\" onclick=\"convertToInteractive('df-0e005715-aff5-446b-a146-d7fff6f064b8')\"\n",
              "              title=\"Convert this dataframe to an interactive table.\"\n",
              "              style=\"display:none;\">\n",
              "        \n",
              "  <svg xmlns=\"http://www.w3.org/2000/svg\" height=\"24px\"viewBox=\"0 0 24 24\"\n",
              "       width=\"24px\">\n",
              "    <path d=\"M0 0h24v24H0V0z\" fill=\"none\"/>\n",
              "    <path d=\"M18.56 5.44l.94 2.06.94-2.06 2.06-.94-2.06-.94-.94-2.06-.94 2.06-2.06.94zm-11 1L8.5 8.5l.94-2.06 2.06-.94-2.06-.94L8.5 2.5l-.94 2.06-2.06.94zm10 10l.94 2.06.94-2.06 2.06-.94-2.06-.94-.94-2.06-.94 2.06-2.06.94z\"/><path d=\"M17.41 7.96l-1.37-1.37c-.4-.4-.92-.59-1.43-.59-.52 0-1.04.2-1.43.59L10.3 9.45l-7.72 7.72c-.78.78-.78 2.05 0 2.83L4 21.41c.39.39.9.59 1.41.59.51 0 1.02-.2 1.41-.59l7.78-7.78 2.81-2.81c.8-.78.8-2.07 0-2.86zM5.41 20L4 18.59l7.72-7.72 1.47 1.35L5.41 20z\"/>\n",
              "  </svg>\n",
              "      </button>\n",
              "      \n",
              "  <style>\n",
              "    .colab-df-container {\n",
              "      display:flex;\n",
              "      flex-wrap:wrap;\n",
              "      gap: 12px;\n",
              "    }\n",
              "\n",
              "    .colab-df-convert {\n",
              "      background-color: #E8F0FE;\n",
              "      border: none;\n",
              "      border-radius: 50%;\n",
              "      cursor: pointer;\n",
              "      display: none;\n",
              "      fill: #1967D2;\n",
              "      height: 32px;\n",
              "      padding: 0 0 0 0;\n",
              "      width: 32px;\n",
              "    }\n",
              "\n",
              "    .colab-df-convert:hover {\n",
              "      background-color: #E2EBFA;\n",
              "      box-shadow: 0px 1px 2px rgba(60, 64, 67, 0.3), 0px 1px 3px 1px rgba(60, 64, 67, 0.15);\n",
              "      fill: #174EA6;\n",
              "    }\n",
              "\n",
              "    [theme=dark] .colab-df-convert {\n",
              "      background-color: #3B4455;\n",
              "      fill: #D2E3FC;\n",
              "    }\n",
              "\n",
              "    [theme=dark] .colab-df-convert:hover {\n",
              "      background-color: #434B5C;\n",
              "      box-shadow: 0px 1px 3px 1px rgba(0, 0, 0, 0.15);\n",
              "      filter: drop-shadow(0px 1px 2px rgba(0, 0, 0, 0.3));\n",
              "      fill: #FFFFFF;\n",
              "    }\n",
              "  </style>\n",
              "\n",
              "      <script>\n",
              "        const buttonEl =\n",
              "          document.querySelector('#df-0e005715-aff5-446b-a146-d7fff6f064b8 button.colab-df-convert');\n",
              "        buttonEl.style.display =\n",
              "          google.colab.kernel.accessAllowed ? 'block' : 'none';\n",
              "\n",
              "        async function convertToInteractive(key) {\n",
              "          const element = document.querySelector('#df-0e005715-aff5-446b-a146-d7fff6f064b8');\n",
              "          const dataTable =\n",
              "            await google.colab.kernel.invokeFunction('convertToInteractive',\n",
              "                                                     [key], {});\n",
              "          if (!dataTable) return;\n",
              "\n",
              "          const docLinkHtml = 'Like what you see? Visit the ' +\n",
              "            '<a target=\"_blank\" href=https://colab.research.google.com/notebooks/data_table.ipynb>data table notebook</a>'\n",
              "            + ' to learn more about interactive tables.';\n",
              "          element.innerHTML = '';\n",
              "          dataTable['output_type'] = 'display_data';\n",
              "          await google.colab.output.renderOutput(dataTable, element);\n",
              "          const docLink = document.createElement('div');\n",
              "          docLink.innerHTML = docLinkHtml;\n",
              "          element.appendChild(docLink);\n",
              "        }\n",
              "      </script>\n",
              "    </div>\n",
              "  </div>\n",
              "  "
            ]
          },
          "metadata": {},
          "execution_count": 39
        }
      ]
    },
    {
      "cell_type": "code",
      "source": [
        "data.info()"
      ],
      "metadata": {
        "colab": {
          "base_uri": "https://localhost:8080/"
        },
        "id": "CQQ8DB32JGO-",
        "outputId": "5df0e8d8-5d19-4b61-eb10-051cb0dbe787"
      },
      "execution_count": 40,
      "outputs": [
        {
          "output_type": "stream",
          "name": "stdout",
          "text": [
            "<class 'pandas.core.frame.DataFrame'>\n",
            "Int64Index: 290566 entries, 1 to 354368\n",
            "Data columns (total 12 columns):\n",
            " #   Column              Non-Null Count   Dtype \n",
            "---  ------              --------------   ----- \n",
            " 0   price               290566 non-null  int32 \n",
            " 1   vehicle_type        290566 non-null  object\n",
            " 2   registration_year   290566 non-null  int32 \n",
            " 3   gearbox             290566 non-null  object\n",
            " 4   power               290566 non-null  int32 \n",
            " 5   model               290566 non-null  object\n",
            " 6   kilometer           290566 non-null  int32 \n",
            " 7   registration_month  290566 non-null  int32 \n",
            " 8   fuel_type           290566 non-null  object\n",
            " 9   brand               290566 non-null  object\n",
            " 10  is_repaired         290566 non-null  object\n",
            " 11  postal_code         290566 non-null  int32 \n",
            "dtypes: int32(6), object(6)\n",
            "memory usage: 22.2+ MB\n"
          ]
        }
      ]
    },
    {
      "cell_type": "markdown",
      "source": [
        "# **EDA**"
      ],
      "metadata": {
        "id": "K0q_dxCPcF7C"
      }
    },
    {
      "cell_type": "markdown",
      "source": [
        "Посмотрим на распределение таргета."
      ],
      "metadata": {
        "id": "e1QoZJBCdUnG"
      }
    },
    {
      "cell_type": "code",
      "source": [
        "plt.figure(figsize=(12, 9))\n",
        "sns.histplot(data['price'], bins=15, color='royalblue')\n",
        "plt.title('price distribution')"
      ],
      "metadata": {
        "colab": {
          "base_uri": "https://localhost:8080/",
          "height": 590
        },
        "id": "lFdQ092lcH6A",
        "outputId": "4aa69701-01a1-4e27-959a-f8f0d205d120"
      },
      "execution_count": 41,
      "outputs": [
        {
          "output_type": "execute_result",
          "data": {
            "text/plain": [
              "Text(0.5, 1.0, 'price distribution')"
            ]
          },
          "metadata": {},
          "execution_count": 41
        },
        {
          "output_type": "display_data",
          "data": {
            "text/plain": [
              "<Figure size 864x648 with 1 Axes>"
            ],
            "image/png": "[encoded data removed]"
          },
          "metadata": {}
        }
      ]
    },
    {
      "cell_type": "markdown",
      "source": [
        "Цена распределна экспоненциально. "
      ],
      "metadata": {
        "id": "VLmweJBsda_M"
      }
    },
    {
      "cell_type": "code",
      "source": [
        "plt.figure(figsize=(18, 6))\n",
        "sns.boxplot(data['price'], color='royalblue')"
      ],
      "metadata": {
        "colab": {
          "base_uri": "https://localhost:8080/",
          "height": 411
        },
        "id": "p-JooNF6fyWj",
        "outputId": "3c0e115c-14d3-4054-e3a4-9be83e9bff40"
      },
      "execution_count": 42,
      "outputs": [
        {
          "output_type": "execute_result",
          "data": {
            "text/plain": [
              "<matplotlib.axes._subplots.AxesSubplot at 0x7f96fdf078d0>"
            ]
          },
          "metadata": {},
          "execution_count": 42
        },
        {
          "output_type": "display_data",
          "data": {
            "text/plain": [
              "<Figure size 1296x432 with 1 Axes>"
            ],
            "image/png": "[encoded data removed]"
          },
          "metadata": {}
        }
      ]
    },
    {
      "cell_type": "markdown",
      "source": [
        "В таргете присуствуют выбросы - удалим их."
      ],
      "metadata": {
        "id": "5cAwvBKh4tJg"
      }
    },
    {
      "cell_type": "code",
      "source": [
        "data = data[data['price'] <= 15500]"
      ],
      "metadata": {
        "id": "_wwi6RIQ4viT"
      },
      "execution_count": 43,
      "outputs": []
    },
    {
      "cell_type": "code",
      "source": [
        "plt.figure(figsize=(12, 9))\n",
        "sns.histplot(data['kilometer'], bins=7, color='royalblue')\n",
        "plt.title('mileage distribution')"
      ],
      "metadata": {
        "colab": {
          "base_uri": "https://localhost:8080/",
          "height": 590
        },
        "id": "4j_hH5KvdARM",
        "outputId": "7aeec2b6-67c4-41df-f902-a0aaea32c236"
      },
      "execution_count": 44,
      "outputs": [
        {
          "output_type": "execute_result",
          "data": {
            "text/plain": [
              "Text(0.5, 1.0, 'mileage distribution')"
            ]
          },
          "metadata": {},
          "execution_count": 44
        },
        {
          "output_type": "display_data",
          "data": {
            "text/plain": [
              "<Figure size 864x648 with 1 Axes>"
            ],
            "image/png": "[encoded data removed]"
          },
          "metadata": {}
        }
      ]
    },
    {
      "cell_type": "code",
      "source": [
        "plt.figure(figsize=(12, 6))\n",
        "sns.boxplot(data['registration_year'], color='royalblue')"
      ],
      "metadata": {
        "colab": {
          "base_uri": "https://localhost:8080/",
          "height": 411
        },
        "id": "iYY0RdawiND5",
        "outputId": "91e33863-f91c-48c3-84d2-c534481cbbf9"
      },
      "execution_count": 45,
      "outputs": [
        {
          "output_type": "execute_result",
          "data": {
            "text/plain": [
              "<matplotlib.axes._subplots.AxesSubplot at 0x7f96fda32890>"
            ]
          },
          "metadata": {},
          "execution_count": 45
        },
        {
          "output_type": "display_data",
          "data": {
            "text/plain": [
              "<Figure size 864x432 with 1 Axes>"
            ],
            "image/png": "[encoded data removed]"
          },
          "metadata": {}
        }
      ]
    },
    {
      "cell_type": "markdown",
      "source": [
        "В колонке registration_year присуствуют выбросы удалим их."
      ],
      "metadata": {
        "id": "WzPhuPtnn40s"
      }
    },
    {
      "cell_type": "code",
      "source": [
        "data = data[data['registration_year'] > 1986]"
      ],
      "metadata": {
        "id": "u329wJzvmV3B"
      },
      "execution_count": 46,
      "outputs": []
    },
    {
      "cell_type": "code",
      "source": [
        "data['gearbox'].value_counts().plot(kind='bar', title='gearbox distribution', xlabel='classes', \n",
        "                                     ylabel='quantity', rot=1, color='orange', alpha =0.9, figsize=(12,9))"
      ],
      "metadata": {
        "colab": {
          "base_uri": "https://localhost:8080/",
          "height": 590
        },
        "id": "O4t_TjNiqmb3",
        "outputId": "89d22520-1f3d-40c7-d0c6-6c225d1a4dc2"
      },
      "execution_count": 47,
      "outputs": [
        {
          "output_type": "execute_result",
          "data": {
            "text/plain": [
              "<matplotlib.axes._subplots.AxesSubplot at 0x7f96fd928f90>"
            ]
          },
          "metadata": {},
          "execution_count": 47
        },
        {
          "output_type": "display_data",
          "data": {
            "text/plain": [
              "<Figure size 864x648 with 1 Axes>"
            ],
            "image/png": "[encoded data removed]"
          },
          "metadata": {}
        }
      ]
    },
    {
      "cell_type": "code",
      "source": [
        "plt.figure(figsize=(12, 9))\n",
        "sns.histplot(data['power'], bins=25,color='royalblue')\n",
        "plt.title('horsepower distribution')"
      ],
      "metadata": {
        "colab": {
          "base_uri": "https://localhost:8080/",
          "height": 590
        },
        "id": "jcMQOhzbs9Dy",
        "outputId": "3559b219-d2c2-473a-b393-ae1e43dbe564"
      },
      "execution_count": 48,
      "outputs": [
        {
          "output_type": "execute_result",
          "data": {
            "text/plain": [
              "Text(0.5, 1.0, 'horsepower distribution')"
            ]
          },
          "metadata": {},
          "execution_count": 48
        },
        {
          "output_type": "display_data",
          "data": {
            "text/plain": [
              "<Figure size 864x648 with 1 Axes>"
            ],
            "image/png": "[encoded data removed]"
          },
          "metadata": {}
        }
      ]
    },
    {
      "cell_type": "code",
      "source": [
        "plt.figure(figsize=(18, 6))\n",
        "sns.boxplot(data['power'], color='royalblue')"
      ],
      "metadata": {
        "colab": {
          "base_uri": "https://localhost:8080/",
          "height": 411
        },
        "id": "e-6YwbS8u1Sd",
        "outputId": "eb4fa1a2-f258-459f-9dd2-74b703aca87a"
      },
      "execution_count": 49,
      "outputs": [
        {
          "output_type": "execute_result",
          "data": {
            "text/plain": [
              "<matplotlib.axes._subplots.AxesSubplot at 0x7f96fd0f5910>"
            ]
          },
          "metadata": {},
          "execution_count": 49
        },
        {
          "output_type": "display_data",
          "data": {
            "text/plain": [
              "<Figure size 1296x432 with 1 Axes>"
            ],
            "image/png": "[encoded data removed]"
          },
          "metadata": {}
        }
      ]
    },
    {
      "cell_type": "markdown",
      "source": [
        "Удалим все строки с лошадиными силами больше 400."
      ],
      "metadata": {
        "id": "jIi0UQCJvYnS"
      }
    },
    {
      "cell_type": "markdown",
      "source": [
        "Также сложно себе представить машины с <30 лошадиных сил. Поэтому эти строки тоже удалим."
      ],
      "metadata": {
        "id": "7b-MAqwZwfVp"
      }
    },
    {
      "cell_type": "code",
      "source": [
        "data = data[(data['power'] <= 400) & (data['power'] >= 30)]"
      ],
      "metadata": {
        "id": "m4OrMkyguqDZ"
      },
      "execution_count": 50,
      "outputs": []
    },
    {
      "cell_type": "code",
      "source": [
        "data['vehicle_type'].value_counts().plot(kind='bar', title='vehicle_type distribution', xlabel='classes', \n",
        "                                     ylabel='quantity', rot=1, color='royalblue', alpha =0.9, figsize=(12,9))"
      ],
      "metadata": {
        "colab": {
          "base_uri": "https://localhost:8080/",
          "height": 591
        },
        "id": "TCl4J5OyyCGM",
        "outputId": "904d571f-e241-4783-deff-81951aa72b9e"
      },
      "execution_count": 51,
      "outputs": [
        {
          "output_type": "execute_result",
          "data": {
            "text/plain": [
              "<matplotlib.axes._subplots.AxesSubplot at 0x7f96fd81c650>"
            ]
          },
          "metadata": {},
          "execution_count": 51
        },
        {
          "output_type": "display_data",
          "data": {
            "text/plain": [
              "<Figure size 864x648 with 1 Axes>"
            ],
            "image/png": "[encoded data removed]"
          },
          "metadata": {}
        }
      ]
    },
    {
      "cell_type": "code",
      "source": [
        "data['model'].value_counts()[:10].plot(kind='bar', title='top-10 models', xlabel='models', \n",
        "                                     ylabel='quantity', rot=1, color='royalblue', alpha =0.9, figsize=(12,9))"
      ],
      "metadata": {
        "colab": {
          "base_uri": "https://localhost:8080/",
          "height": 591
        },
        "id": "856euq7_yUsK",
        "outputId": "5e7fb54f-0fd2-4dba-cc2f-54f2326678d9"
      },
      "execution_count": 52,
      "outputs": [
        {
          "output_type": "execute_result",
          "data": {
            "text/plain": [
              "<matplotlib.axes._subplots.AxesSubplot at 0x7f96fd6d56d0>"
            ]
          },
          "metadata": {},
          "execution_count": 52
        },
        {
          "output_type": "display_data",
          "data": {
            "text/plain": [
              "<Figure size 864x648 with 1 Axes>"
            ],
            "image/png": "[encoded data removed]"
          },
          "metadata": {}
        }
      ]
    },
    {
      "cell_type": "code",
      "source": [
        "data['registration_month'].value_counts().plot(kind='bar', title='months distribution', xlabel='months', \n",
        "                                     ylabel='quantity', rot=1, color='royalblue', alpha =0.9, figsize=(12,9))"
      ],
      "metadata": {
        "colab": {
          "base_uri": "https://localhost:8080/",
          "height": 590
        },
        "id": "u4uozd3cy2em",
        "outputId": "d10067a6-2500-41cc-fb96-67786eb6d0c4"
      },
      "execution_count": 53,
      "outputs": [
        {
          "output_type": "execute_result",
          "data": {
            "text/plain": [
              "<matplotlib.axes._subplots.AxesSubplot at 0x7f96fd6cf1d0>"
            ]
          },
          "metadata": {},
          "execution_count": 53
        },
        {
          "output_type": "display_data",
          "data": {
            "text/plain": [
              "<Figure size 864x648 with 1 Axes>"
            ],
            "image/png": "[encoded data removed]"
          },
          "metadata": {}
        }
      ]
    },
    {
      "cell_type": "markdown",
      "source": [
        "Самый частый месяц регистрации автомобиля - март."
      ],
      "metadata": {
        "id": "Pkl1Nf43zISf"
      }
    },
    {
      "cell_type": "code",
      "source": [
        "data['fuel_type'].value_counts().plot(kind='bar', title='fuel_type distribution', xlabel='classes', \n",
        "                                     ylabel='quantity', rot=1, color='orange', alpha =0.9, figsize=(12,9))"
      ],
      "metadata": {
        "colab": {
          "base_uri": "https://localhost:8080/",
          "height": 591
        },
        "id": "mud3Z7xAzPHy",
        "outputId": "e8621091-c69f-4df9-b439-60b59cf989d2"
      },
      "execution_count": 54,
      "outputs": [
        {
          "output_type": "execute_result",
          "data": {
            "text/plain": [
              "<matplotlib.axes._subplots.AxesSubplot at 0x7f96fd5711d0>"
            ]
          },
          "metadata": {},
          "execution_count": 54
        },
        {
          "output_type": "display_data",
          "data": {
            "text/plain": [
              "<Figure size 864x648 with 1 Axes>"
            ],
            "image/png": "[encoded data removed]"
          },
          "metadata": {}
        }
      ]
    },
    {
      "cell_type": "code",
      "source": [
        "data['brand'].value_counts()[:10].plot(kind='bar', title='top-10 brands', xlabel='brands', \n",
        "                                     ylabel='quantity', rot=1, color='royalblue', alpha =0.9, figsize=(12,9))"
      ],
      "metadata": {
        "colab": {
          "base_uri": "https://localhost:8080/",
          "height": 592
        },
        "id": "Mmn--oevzoUU",
        "outputId": "17112ff6-cda9-464e-f0be-65a88d3e84e8"
      },
      "execution_count": 55,
      "outputs": [
        {
          "output_type": "execute_result",
          "data": {
            "text/plain": [
              "<matplotlib.axes._subplots.AxesSubplot at 0x7f96fd8d2990>"
            ]
          },
          "metadata": {},
          "execution_count": 55
        },
        {
          "output_type": "display_data",
          "data": {
            "text/plain": [
              "<Figure size 864x648 with 1 Axes>"
            ],
            "image/png": "[encoded data removed]"
          },
          "metadata": {}
        }
      ]
    },
    {
      "cell_type": "code",
      "source": [
        "data['is_repaired'].value_counts().plot(kind='bar', title='is_repaired distribution', xlabel='classes', \n",
        "                                     ylabel='quantity', rot=1, color='orange', alpha =0.9, figsize=(12,9))"
      ],
      "metadata": {
        "colab": {
          "base_uri": "https://localhost:8080/",
          "height": 591
        },
        "id": "I1qKvQcU0Qte",
        "outputId": "329d740e-d980-47e1-b9d3-5ac65084adb6"
      },
      "execution_count": 56,
      "outputs": [
        {
          "output_type": "execute_result",
          "data": {
            "text/plain": [
              "<matplotlib.axes._subplots.AxesSubplot at 0x7f96fd551e50>"
            ]
          },
          "metadata": {},
          "execution_count": 56
        },
        {
          "output_type": "display_data",
          "data": {
            "text/plain": [
              "<Figure size 864x648 with 1 Axes>"
            ],
            "image/png": "[encoded data removed]"
          },
          "metadata": {}
        }
      ]
    },
    {
      "cell_type": "markdown",
      "source": [
        "Применим технику label encoding для категориальных колонок."
      ],
      "metadata": {
        "id": "JMjjz40eBYCI"
      }
    },
    {
      "cell_type": "code",
      "source": [
        "cat_cols = ['vehicle_type', 'gearbox', 'model', 'fuel_type', 'brand', 'is_repaired']\n",
        "enc = OrdinalEncoder()\n",
        "data[cat_cols] = enc.fit_transform(data[cat_cols])"
      ],
      "metadata": {
        "id": "lqvN0rSGBfD8"
      },
      "execution_count": 57,
      "outputs": []
    },
    {
      "cell_type": "markdown",
      "source": [
        "Теперь посмотрим на корреляции."
      ],
      "metadata": {
        "id": "TK1VX3LbChYO"
      }
    },
    {
      "cell_type": "code",
      "source": [
        "plt.figure(figsize=(15, 10))\n",
        "sns.heatmap(data.corr(), annot=True, fmt=\".1f\")"
      ],
      "metadata": {
        "colab": {
          "base_uri": "https://localhost:8080/",
          "height": 711
        },
        "id": "V_QTa0_N3ydj",
        "outputId": "617554c6-8561-43ab-d70f-bbb2ceb6c858"
      },
      "execution_count": 58,
      "outputs": [
        {
          "output_type": "execute_result",
          "data": {
            "text/plain": [
              "<matplotlib.axes._subplots.AxesSubplot at 0x7f96fd4e1e50>"
            ]
          },
          "metadata": {},
          "execution_count": 58
        },
        {
          "output_type": "display_data",
          "data": {
            "text/plain": [
              "<Figure size 1080x720 with 2 Axes>"
            ],
            "image/png": "[encoded data removed]"
          },
          "metadata": {}
        }
      ]
    },
    {
      "cell_type": "markdown",
      "source": [
        "Есть значимая корреляция между кол-вом лошадиных сил и ценой автомобиля, между ценой автомобиля и годом регистрации, между брендом и моделью."
      ],
      "metadata": {
        "id": "OxFwenHBDTVk"
      }
    },
    {
      "cell_type": "markdown",
      "source": [
        "# **Modeling**"
      ],
      "metadata": {
        "id": "FeiPPrBvfksy"
      }
    },
    {
      "cell_type": "markdown",
      "source": [
        "Сначала разделим выборку в пропорции 1:4. 4 части будет использовано для кросс-валидации, а 1 часть - для теста."
      ],
      "metadata": {
        "id": "lmB37bIDyjqW"
      }
    },
    {
      "cell_type": "code",
      "source": [
        "features = data.drop('price', axis=1)\n",
        "target = data['price']"
      ],
      "metadata": {
        "id": "tAQPULvnfmbP"
      },
      "execution_count": 59,
      "outputs": []
    },
    {
      "cell_type": "code",
      "source": [
        "x_train, x_test, y_train, y_test = train_test_split(features, target, train_size=0.8, random_state=67)"
      ],
      "metadata": {
        "id": "umyERXtgxVEb"
      },
      "execution_count": 60,
      "outputs": []
    },
    {
      "cell_type": "markdown",
      "source": [
        "**baseline**"
      ],
      "metadata": {
        "id": "a8-5bSzvgT0D"
      }
    },
    {
      "cell_type": "markdown",
      "source": [
        "В качестве бейзлайна возьмем случайный лес."
      ],
      "metadata": {
        "id": "edAjsg6EHnyg"
      }
    },
    {
      "cell_type": "code",
      "source": [
        "model = RandomForestRegressor(random_state=67)"
      ],
      "metadata": {
        "id": "ke2XbOkJgWIZ"
      },
      "execution_count": 61,
      "outputs": []
    },
    {
      "cell_type": "code",
      "source": [
        "%%time\n",
        "scores = cross_val_score(model, x_train, y_train, cv=5, scoring='neg_root_mean_squared_error')"
      ],
      "metadata": {
        "colab": {
          "base_uri": "https://localhost:8080/"
        },
        "id": "YxpF0CJ3gcj_",
        "outputId": "38c52bb2-5dca-446c-b951-201e57b07e90"
      },
      "execution_count": 62,
      "outputs": [
        {
          "output_type": "stream",
          "name": "stdout",
          "text": [
            "CPU times: user 5min 42s, sys: 1.93 s, total: 5min 43s\n",
            "Wall time: 5min 49s\n"
          ]
        }
      ]
    },
    {
      "cell_type": "code",
      "source": [
        "print(scores)\n",
        "print('avg nrmse:', round(sum(scores) / len(scores)))"
      ],
      "metadata": {
        "id": "MiCKEtNl45fI",
        "colab": {
          "base_uri": "https://localhost:8080/"
        },
        "outputId": "bc16d80c-07d6-49f0-d617-9bb6ac67d7d8"
      },
      "execution_count": 63,
      "outputs": [
        {
          "output_type": "stream",
          "name": "stdout",
          "text": [
            "[-1338.71661504 -1344.0016371  -1332.72023611 -1332.15936613\n",
            " -1323.34886711]\n",
            "avg nrmse: -1334\n"
          ]
        }
      ]
    },
    {
      "cell_type": "markdown",
      "source": [
        "Как мы видим модель довольно стабильна."
      ],
      "metadata": {
        "id": "evEB5C1UnMZS"
      }
    },
    {
      "cell_type": "markdown",
      "source": [
        "Так как нам важно не только качество предсказаний, а еще и скорость обучения и скорость предсказания, то протестируем две модели: lightgbm и xgboost."
      ],
      "metadata": {
        "id": "NQXSg3pBH1o2"
      }
    },
    {
      "cell_type": "markdown",
      "source": [
        "Нам важен баланс между качеством предсказаний и скоростью обучения. Очевидно, что модель lightgbm будет обучаться быстрее всех - это ее основаня фишка, но если у нее будет плохое качество, то придется пожертвовать скоростью обучения ради качества предсказания."
      ],
      "metadata": {
        "id": "KwQv1AqsIMiU"
      }
    },
    {
      "cell_type": "markdown",
      "source": [
        "Сначала посмотрим, как эти модели покажут себя в стоке, а потому уже займемся тюнингом гиперпараметров."
      ],
      "metadata": {
        "id": "aNn_D1GxI-j5"
      }
    },
    {
      "cell_type": "code",
      "source": [
        "model = LGBMRegressor(random_state=67)"
      ],
      "metadata": {
        "id": "TASLEnouni5n"
      },
      "execution_count": 64,
      "outputs": []
    },
    {
      "cell_type": "code",
      "source": [
        "%%time\n",
        "scores = cross_val_score(model, x_train, y_train, cv=5, scoring='neg_root_mean_squared_error')"
      ],
      "metadata": {
        "id": "1Bd5uBdZfJIM",
        "colab": {
          "base_uri": "https://localhost:8080/"
        },
        "outputId": "d291d9c2-5c13-4e28-c6ee-8b49254b46d0"
      },
      "execution_count": 65,
      "outputs": [
        {
          "output_type": "stream",
          "name": "stdout",
          "text": [
            "CPU times: user 14.7 s, sys: 334 ms, total: 15 s\n",
            "Wall time: 7.85 s\n"
          ]
        }
      ]
    },
    {
      "cell_type": "code",
      "source": [
        "print(scores)\n",
        "print('avg nrmse:', round(sum(scores) / len(scores)))"
      ],
      "metadata": {
        "id": "i9bd133IvBu_",
        "colab": {
          "base_uri": "https://localhost:8080/"
        },
        "outputId": "b4d342de-acd8-4a4e-926d-a3f4941ff3bf"
      },
      "execution_count": 66,
      "outputs": [
        {
          "output_type": "stream",
          "name": "stdout",
          "text": [
            "[-1433.59629714 -1428.04639224 -1432.63383671 -1437.72635007\n",
            " -1412.62681965]\n",
            "avg nrmse: -1429\n"
          ]
        }
      ]
    },
    {
      "cell_type": "code",
      "source": [
        "model = XGBRegressor(random_state=67, objective=\"reg:squarederror\")"
      ],
      "metadata": {
        "id": "NiCPODoS4DoH"
      },
      "execution_count": 67,
      "outputs": []
    },
    {
      "cell_type": "code",
      "source": [
        "%%time\n",
        "scores = cross_val_score(model, x_train, y_train, cv=5, scoring='neg_root_mean_squared_error')"
      ],
      "metadata": {
        "id": "QQHzaFcsfBen",
        "colab": {
          "base_uri": "https://localhost:8080/"
        },
        "outputId": "f0aeaea8-2c44-409f-ed38-b2f535c2eaa2"
      },
      "execution_count": 68,
      "outputs": [
        {
          "output_type": "stream",
          "name": "stdout",
          "text": [
            "CPU times: user 34.8 s, sys: 323 ms, total: 35.1 s\n",
            "Wall time: 35.3 s\n"
          ]
        }
      ]
    },
    {
      "cell_type": "code",
      "source": [
        "print(scores)\n",
        "print('avg nrmse:', round(sum(scores) / len(scores)))"
      ],
      "metadata": {
        "id": "fEP2FRGw4JnB",
        "colab": {
          "base_uri": "https://localhost:8080/"
        },
        "outputId": "d11e309f-a52a-4181-b5f0-fa09e7717bcf"
      },
      "execution_count": 69,
      "outputs": [
        {
          "output_type": "stream",
          "name": "stdout",
          "text": [
            "[-1586.55487963 -1579.19893732 -1581.76379584 -1599.931001\n",
            " -1570.64157538]\n",
            "avg nrmse: -1584\n"
          ]
        }
      ]
    },
    {
      "cell_type": "markdown",
      "source": [
        "модель lgbm показал себя лучше модели xgboost как в качестве, так и в скорости обучения. Но это еще не показатель, так как модели тестировались в стоковом состоянии."
      ],
      "metadata": {
        "id": "bS4yQnxhJMzc"
      }
    },
    {
      "cell_type": "markdown",
      "source": [
        "Обе модели не дотягивают до нашего бейзлайна по качеству предсказаний."
      ],
      "metadata": {
        "id": "pS5CEEDnOW5P"
      }
    },
    {
      "cell_type": "markdown",
      "source": [
        "**Hyperparameter tuning**"
      ],
      "metadata": {
        "id": "XDNPR2bPOrzC"
      }
    },
    {
      "cell_type": "code",
      "source": [
        "params = {\n",
        "    'learning_rate': np.arange(0.05, 0.31, 0.05),\n",
        "    'max_depth': np.arange(3, 13, 1, dtype=int),\n",
        "    'min_child_weight': np.arange(1, 8, 1, dtype=int),\n",
        "    'colsample_bytree': np.arange(0.3, 0.8, 0.1),\n",
        "    'n_estimators': np.arange(100, 500, 25)\n",
        "}"
      ],
      "metadata": {
        "id": "ZR7uZSs5SpW-"
      },
      "execution_count": 70,
      "outputs": []
    },
    {
      "cell_type": "code",
      "source": [
        "model = XGBRegressor(random_state=67, objective=\"reg:squarederror\", tree_method='gpu_hist')\n",
        "rs_model = RandomizedSearchCV(model, param_distributions=params, \n",
        "                              scoring='neg_root_mean_squared_error', n_jobs=-1, cv=3, \n",
        "                              verbose=3, n_iter=20, random_state=67)\n",
        "rs_model.fit(x_train, y_train)\n",
        "rs_model.best_params_"
      ],
      "metadata": {
        "id": "7c_WvI9tS5f7",
        "colab": {
          "base_uri": "https://localhost:8080/"
        },
        "outputId": "daa7a7c4-6bea-407b-8782-147384990dd7"
      },
      "execution_count": 71,
      "outputs": [
        {
          "output_type": "stream",
          "name": "stdout",
          "text": [
            "Fitting 3 folds for each of 20 candidates, totalling 60 fits\n"
          ]
        },
        {
          "output_type": "execute_result",
          "data": {
            "text/plain": [
              "{'colsample_bytree': 0.4,\n",
              " 'learning_rate': 0.15000000000000002,\n",
              " 'max_depth': 12,\n",
              " 'min_child_weight': 3,\n",
              " 'n_estimators': 175}"
            ]
          },
          "metadata": {},
          "execution_count": 71
        }
      ]
    },
    {
      "cell_type": "code",
      "source": [
        "scores = cross_val_score(rs_model.best_estimator_, x_train, y_train, cv=5, scoring='neg_root_mean_squared_error')\n",
        "print(scores)\n",
        "print('avg nrmse:', round(sum(scores) / len(scores)))"
      ],
      "metadata": {
        "id": "AWgfJSLLeOoY",
        "colab": {
          "base_uri": "https://localhost:8080/"
        },
        "outputId": "2deeb471-3b52-4f05-9145-e8b4d955f684"
      },
      "execution_count": 72,
      "outputs": [
        {
          "output_type": "stream",
          "name": "stdout",
          "text": [
            "[-1311.85924162 -1311.10722303 -1316.84178016 -1318.7320254\n",
            " -1303.63519359]\n",
            "avg nrmse: -1312\n"
          ]
        }
      ]
    },
    {
      "cell_type": "code",
      "source": [
        "model = LGBMRegressor(random_state=67)\n",
        "rs_model = RandomizedSearchCV(model, param_distributions=params, \n",
        "                              scoring='neg_root_mean_squared_error', n_jobs=-1, cv=3, \n",
        "                              verbose=3, n_iter=20, random_state=67)\n",
        "rs_model.fit(x_train, y_train)\n",
        "rs_model.best_params_"
      ],
      "metadata": {
        "id": "RNqUhEtWd3At",
        "colab": {
          "base_uri": "https://localhost:8080/"
        },
        "outputId": "da206d42-bcef-4f33-ef2a-a34e47e557bb"
      },
      "execution_count": 73,
      "outputs": [
        {
          "output_type": "stream",
          "name": "stdout",
          "text": [
            "Fitting 3 folds for each of 20 candidates, totalling 60 fits\n"
          ]
        },
        {
          "output_type": "execute_result",
          "data": {
            "text/plain": [
              "{'colsample_bytree': 0.5,\n",
              " 'learning_rate': 0.3,\n",
              " 'max_depth': 12,\n",
              " 'min_child_weight': 1,\n",
              " 'n_estimators': 450}"
            ]
          },
          "metadata": {},
          "execution_count": 73
        }
      ]
    },
    {
      "cell_type": "code",
      "source": [
        "scores = cross_val_score(rs_model.best_estimator_, x_train, y_train, cv=5, scoring='neg_root_mean_squared_error')\n",
        "print(scores)\n",
        "print('avg nrmse:', round(sum(scores) / len(scores)))"
      ],
      "metadata": {
        "id": "CEpdWP-bgVNA",
        "colab": {
          "base_uri": "https://localhost:8080/"
        },
        "outputId": "31b3bdab-619b-41e1-8996-eb44b8c255a0"
      },
      "execution_count": 74,
      "outputs": [
        {
          "output_type": "stream",
          "name": "stdout",
          "text": [
            "[-1356.20228326 -1360.64930294 -1350.65124394 -1358.87809613\n",
            " -1344.42098016]\n",
            "avg nrmse: -1354\n"
          ]
        }
      ]
    },
    {
      "cell_type": "markdown",
      "source": [
        "Результаты моделей улучшились."
      ],
      "metadata": {
        "id": "BsEdSqhLCa2m"
      }
    },
    {
      "cell_type": "markdown",
      "source": [
        "Так как результаты отличаются незначительно, а скорость обучения у lgbm значительно выше, то в качестве основной модели выберем именно lgbm."
      ],
      "metadata": {
        "id": "w4LrWFnQCjC_"
      }
    },
    {
      "cell_type": "markdown",
      "source": [
        "# **Testing**"
      ],
      "metadata": {
        "id": "TugmapKdrkpi"
      }
    },
    {
      "cell_type": "markdown",
      "source": [
        "Теперь проверим модель lgbm на тестовой выборке."
      ],
      "metadata": {
        "id": "IfWcqTX3CfJv"
      }
    },
    {
      "cell_type": "code",
      "source": [
        "model = rs_model.best_estimator_\n",
        "model.fit(x_train, y_train)\n",
        "print('rmse: ',mean_squared_error(y_test, model.predict(x_test)) ** 0.5)"
      ],
      "metadata": {
        "id": "IULiUdi9riSL",
        "colab": {
          "base_uri": "https://localhost:8080/"
        },
        "outputId": "1a47b4ed-0fe8-4909-8a82-0be15d836da1"
      },
      "execution_count": 75,
      "outputs": [
        {
          "output_type": "stream",
          "name": "stdout",
          "text": [
            "rmse:  1354.2828800170707\n"
          ]
        }
      ]
    },
    {
      "cell_type": "markdown",
      "source": [
        "Результат почти такой же как и на кросс-валидации. Это говорит о том, что модель хорошо обучилась и никакого недообучения или переобучения нет."
      ],
      "metadata": {
        "id": "SvHTKexrC3Gz"
      }
    },
    {
      "cell_type": "markdown",
      "source": [
        "# **Results**"
      ],
      "metadata": {
        "id": "L547TSgVst79"
      }
    },
    {
      "cell_type": "markdown",
      "source": [
        "Теперь приступим к анализу модели."
      ],
      "metadata": {
        "id": "J0FgNuorDJRB"
      }
    },
    {
      "cell_type": "markdown",
      "source": [
        "Для того, чтобы интерпритировать модель максимально четко - обучим ее на полных данных. Для этого просто соединим train и test."
      ],
      "metadata": {
        "id": "wJDTjhBMDM0p"
      }
    },
    {
      "cell_type": "code",
      "source": [
        "x_train_and_test = pd.concat([x_train, x_test])\n",
        "y_train_and_test = pd.concat([y_train, y_test])"
      ],
      "metadata": {
        "id": "fTdTguy5stSm"
      },
      "execution_count": 76,
      "outputs": []
    },
    {
      "cell_type": "markdown",
      "source": [
        "Обучим модель на полных данных."
      ],
      "metadata": {
        "id": "rwSjgwZKDaVf"
      }
    },
    {
      "cell_type": "code",
      "source": [
        "model.fit(x_train_and_test, y_train_and_test)"
      ],
      "metadata": {
        "id": "u-RftM3Os_iD",
        "colab": {
          "base_uri": "https://localhost:8080/"
        },
        "outputId": "b3dd5dcc-c46f-4d6f-c200-6e7c54ec986a"
      },
      "execution_count": 77,
      "outputs": [
        {
          "output_type": "execute_result",
          "data": {
            "text/plain": [
              "LGBMRegressor(colsample_bytree=0.5, learning_rate=0.3, max_depth=12,\n",
              "              min_child_weight=1, n_estimators=450, random_state=67)"
            ]
          },
          "metadata": {},
          "execution_count": 77
        }
      ]
    },
    {
      "cell_type": "markdown",
      "source": [
        "Для интерпритации модели будем использовать библиотеку shap."
      ],
      "metadata": {
        "id": "OKtFfyGVDc6g"
      }
    },
    {
      "cell_type": "code",
      "source": [
        "explainer = shap.TreeExplainer(model)\n",
        "shap_values = explainer.shap_values(x_train_and_test)"
      ],
      "metadata": {
        "id": "rkstMkMftDeW"
      },
      "execution_count": 78,
      "outputs": []
    },
    {
      "cell_type": "code",
      "source": [
        "shap.summary_plot(shap_values, x_train_and_test)"
      ],
      "metadata": {
        "id": "PuMou0ITtFmI",
        "colab": {
          "base_uri": "https://localhost:8080/",
          "height": 392
        },
        "outputId": "83bb19bd-9fdf-4da4-b2d6-c69320b4bfbf"
      },
      "execution_count": 79,
      "outputs": [
        {
          "output_type": "display_data",
          "data": {
            "text/plain": [
              "<Figure size 576x424.8 with 2 Axes>"
            ],
            "image/png": "[encoded data removed]"
          },
          "metadata": {}
        }
      ]
    },
    {
      "cell_type": "markdown",
      "source": [
        "По данному графику видно, что модель добавляет цену машине : при высоких значениях года регистрации, при высоких значениях лошадиных сил, при низких значениях пробега и когда машина не ремонтировалась. "
      ],
      "metadata": {
        "id": "yZc8OfrEDtR8"
      }
    },
    {
      "cell_type": "markdown",
      "source": [
        "Теперь посмотрим значимость фичей для модели."
      ],
      "metadata": {
        "id": "BYKPdn-tEcAl"
      }
    },
    {
      "cell_type": "code",
      "source": [
        "shap.summary_plot(shap_values, x_train_and_test, plot_type=\"bar\")"
      ],
      "metadata": {
        "id": "aWuVLmOntHQZ",
        "colab": {
          "base_uri": "https://localhost:8080/",
          "height": 388
        },
        "outputId": "1aaa5c2e-0727-441b-a7a5-cbe3f1b8198d"
      },
      "execution_count": 80,
      "outputs": [
        {
          "output_type": "display_data",
          "data": {
            "text/plain": [
              "<Figure size 576x424.8 with 1 Axes>"
            ],
            "image/png": "[encoded data removed]"
          },
          "metadata": {}
        }
      ]
    },
    {
      "cell_type": "markdown",
      "source": [
        "На первом месте по значимости у нас - год регистрации автомобиля, на втором - лошадиные силы и на третьем - бренд автомобиля."
      ],
      "metadata": {
        "id": "I9-8ZwI-EfiI"
      }
    },
    {
      "cell_type": "markdown",
      "source": [
        "По важности фичей мы видим, что колонки postal_code и registration_month практически не значимы для модели, поэтому, для того, чтобы модель работала еще быстрее удалим эти фичи и проверим RMSE модели."
      ],
      "metadata": {
        "id": "k5gkzInd3ug0"
      }
    },
    {
      "cell_type": "code",
      "source": [
        "x_train_and_test = x_train_and_test.drop(['postal_code', 'registration_month'], axis=1)"
      ],
      "metadata": {
        "id": "70MSLkGy3x1-"
      },
      "execution_count": 81,
      "outputs": []
    },
    {
      "cell_type": "code",
      "source": [
        "model.fit(x_train_and_test, y_train_and_test)\n",
        "print('rmse: ', mean_squared_error(y_train_and_test, model.predict(x_train_and_test)) ** 0.5)"
      ],
      "metadata": {
        "id": "8t9ZMiJW3zp5",
        "colab": {
          "base_uri": "https://localhost:8080/"
        },
        "outputId": "6eee1957-cbd6-42ba-c16e-5c451a75ec63"
      },
      "execution_count": 82,
      "outputs": [
        {
          "output_type": "stream",
          "name": "stdout",
          "text": [
            "rmse:  1274.805907063766\n"
          ]
        }
      ]
    },
    {
      "cell_type": "code",
      "source": [
        "data['price'].std()"
      ],
      "metadata": {
        "colab": {
          "base_uri": "https://localhost:8080/"
        },
        "id": "mifgMfBooxno",
        "outputId": "6b3f5808-b922-42fe-cfaf-92008159a11f"
      },
      "execution_count": 83,
      "outputs": [
        {
          "output_type": "execute_result",
          "data": {
            "text/plain": [
              "3788.243979411139"
            ]
          },
          "metadata": {},
          "execution_count": 83
        }
      ]
    },
    {
      "cell_type": "markdown",
      "source": [
        "Как мы видим RMSE в три раза меньше, чем std таргета."
      ],
      "metadata": {
        "id": "GwdL1s0gqTnC"
      }
    },
    {
      "cell_type": "markdown",
      "source": [
        "# **Conclusion**"
      ],
      "metadata": {
        "id": "MgexNrCu2YKP"
      }
    },
    {
      "cell_type": "markdown",
      "source": [
        "<b> В итоге лучшей моделью оказалась модель lgbm. Она показала практически такие же результаты, как модель xgboost, при этом скорость обучения у модели lgbm значительно выше, чем у модели xgboost. Удалось достичь значения 1275 по метрике RMSE. Было проанализировано: значимость фичей для модели и при каких значениях фичей модель принимала решение повысить цену на автомобиль.</b>"
      ],
      "metadata": {
        "id": "1ZWPMFSu3Jfj"
      }
    }
  ]
}